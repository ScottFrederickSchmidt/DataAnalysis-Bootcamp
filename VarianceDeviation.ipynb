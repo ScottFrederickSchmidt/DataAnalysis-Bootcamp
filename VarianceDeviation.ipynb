{
 "cells": [
  {
   "cell_type": "markdown",
   "metadata": {
    "execution": {
     "iopub.execute_input": "2022-02-15T20:05:37.434851Z",
     "iopub.status.busy": "2022-02-15T20:05:37.434534Z",
     "iopub.status.idle": "2022-02-15T20:05:37.442106Z",
     "shell.execute_reply": "2022-02-15T20:05:37.441122Z",
     "shell.execute_reply.started": "2022-02-15T20:05:37.434807Z"
    }
   },
   "source": [
    "## Python Automation ISU Scott Schmidt\n",
    "#### 1. Write a Python module called p2Lib1.py to define four functions \n",
    "called sumList(), meanList(), minMaxList(), and stdevList()\n",
    "to calculate the summation, mean, minimum, maximum, standard deviation of any given list. \n",
    "Each function has a list as an input, and returns the corresponding \n",
    "result (i.e., sum, mean, min, max, stdev, etc.). \n",
    "Please note: a) meanList() should use sumList() to calculate the summation of a list;\n",
    "b) stdevList() should use meanList() to calculate the mean value; c) minMaxList() \n",
    "should return both min and max values."
   ]
  },
  {
   "cell_type": "code",
   "execution_count": 1,
   "metadata": {
    "execution": {
     "iopub.execute_input": "2022-02-18T21:27:44.158677Z",
     "iopub.status.busy": "2022-02-18T21:27:44.157567Z",
     "iopub.status.idle": "2022-02-18T21:27:44.193632Z",
     "shell.execute_reply": "2022-02-18T21:27:44.192876Z",
     "shell.execute_reply.started": "2022-02-18T21:27:44.15849Z"
    }
   },
   "outputs": [],
   "source": [
    "# 1p2Lib1.py to define four functions:\n",
    "data=[112.99,136.49,153.03,142.34,144.3,123.3,141.49,136.46,112.37,120.67,127.45,114.14,125.61,122.46,116.09,140,129.5,142.97,137.9,124.04,141.28,143.54,97.9,129.5,141.85,129.72,142.42,131.55,108.33,113.89,103.3,120.75,125.79,136.22,140.1,128.75,141.8,121.23,131.35,106.71,124.36,124.86,139.67,137.37,106.45,128.76,145.68,116.82,143.62,134.93,147.02,126.33,125.48,115.71,123.49,147.89,155.9,128.07,119.37,133.81,128.73,137.55,129.76,128.82,135.32,109.61,142.47,132.75,103.53,124.73,129.31,134.02,140.4,102.84,128.52,120.3,138.6,132.96,115.62,122.52,134.63,121.9,155.38,128.94,129.1,139.47,140.89,131.59,121.12,131.51,136.55,141.49,140.61,112.14,133.46,131.8,120.03,123.1,128.14,115.48]\n",
    "\n",
    "#Return the total:\n",
    "def sumList(numbers):\n",
    "    count=0\n",
    "    for n in numbers:\n",
    "        count=count+n\n",
    "    total=round(count,2)\n",
    "    return total\n",
    "\n",
    "#Return the mean:\n",
    "def meanList(numbers):\n",
    "    total=sumList(numbers)\n",
    "    mean=round(total/len(numbers),2)\n",
    "    return mean\n",
    "\n",
    "#Return min and max in a list:\n",
    "def minMaxList():\n",
    "    min_num=999_999\n",
    "    max_num= -9999\n",
    "    for d in data:\n",
    "        if d<min_num:\n",
    "            min_num=d\n",
    "        if d>max_num:\n",
    "            max_num=d\n",
    "    final=[min_num, max_num]\n",
    "    return final\n",
    "\n",
    "#Return the standard deviation:\n",
    "def stdevList(mean):\n",
    "    var=0 #variance\n",
    "    for d in data:\n",
    "        n=d-mean\n",
    "        n2=n*n\n",
    "        var=var+n2\n",
    "    std=var/len(data)\n",
    "    std=round(std**0.5,2)\n",
    "    return std"
   ]
  },
  {
   "cell_type": "markdown",
   "metadata": {},
   "source": [
    "#### 2.\t(5 points) Write a Python application called p2App1.py to apply the four functions \n",
    "above to the given weight list, calculate the summation, mean, minimum, maximum, standard deviation of the list, and print out the results. Please note: you need to import p2Lib1.in order to use the defined functions above in p2Lib1.py. \n",
    "\n"
   ]
  },
  {
   "cell_type": "code",
   "execution_count": 2,
   "metadata": {
    "execution": {
     "iopub.execute_input": "2022-02-18T21:27:44.1961Z",
     "iopub.status.busy": "2022-02-18T21:27:44.195332Z",
     "iopub.status.idle": "2022-02-18T21:27:44.204075Z",
     "shell.execute_reply": "2022-02-18T21:27:44.203043Z",
     "shell.execute_reply.started": "2022-02-18T21:27:44.196051Z"
    }
   },
   "outputs": [
    {
     "name": "stdout",
     "output_type": "stream",
     "text": [
      "The total of the population is:  12920.86\n",
      "The mean of the population is:  129.21\n",
      "The min and max of this population is: 97.9  and  155.9\n",
      "The standard deviation of the population is:  12.06\n"
     ]
    }
   ],
   "source": [
    "#Call the four functions once:\n",
    "total=sumList(data)\n",
    "mean=meanList(data)\n",
    "minMax=minMaxList()\n",
    "stdev=stdevList(mean)\n",
    "\n",
    "print(\"The total of the population is: \", total)\n",
    "print(\"The mean of the population is: \", mean)    \n",
    "print(\"The min and max of this population is:\", minMax[0],\" and \", minMax[1])\n",
    "print(\"The standard deviation of the population is: \", stdev)\n",
    "\n",
    "#The summation of this population is 12920.86\n",
    "#The mean of this population is 129.21\n",
    "#The min and max of this population is 97.90 and 155.90\n",
    "#The standard deviation of this population is 12.06"
   ]
  },
  {
   "cell_type": "markdown",
   "metadata": {},
   "source": [
    "#### 3. Write a Python module called p2Lib2.py to define a function called sampling(), \n",
    "which can do sampling with and without replacement from the population.\n",
    "\n",
    "Here is a quick review about the two sampling methods:\n",
    "•\tSampling with replacement (the same data point could appear more than once in a sample)\n",
    "•\tSampling without replacement (the same data point could appear only once in a sample)\n",
    "The function sampling() takes three arguments as input a list (type: List), sampling size (type: int), with/without replacement (type: boolean), which is sampling(aList, sampleSize, withReplacement = True). sampling() returns the sampled list. Here, aList and sampleSize are positional arguments; withReplacement is a keyword argument with default as True."
   ]
  },
  {
   "cell_type": "code",
   "execution_count": 3,
   "metadata": {
    "execution": {
     "iopub.execute_input": "2022-02-18T21:27:44.206546Z",
     "iopub.status.busy": "2022-02-18T21:27:44.206015Z",
     "iopub.status.idle": "2022-02-18T21:27:44.218955Z",
     "shell.execute_reply": "2022-02-18T21:27:44.217698Z",
     "shell.execute_reply.started": "2022-02-18T21:27:44.206495Z"
    }
   },
   "outputs": [],
   "source": [
    "from random import choices, sample\n",
    "import random\n",
    "\n",
    "#int refers to sampling size\n",
    "#boolean refers to with or without replacement\n",
    "def sampling(data, int, bool):\n",
    "    if bool:\n",
    "        c=choices(data, k=int) #Sample with replacement\n",
    "        return c\n",
    "    else:\n",
    "        s=sample(data,k=int) #Sample without replacement\n",
    "        return s"
   ]
  },
  {
   "cell_type": "markdown",
   "metadata": {},
   "source": [
    "#### 4.\t(10 points) Write a Python application called p2App2.py to use sampling() to \n",
    "conduct sampling 5 times with the sampling sizes 5, 10, 30, respectively for both with and without replacement. Calculate and print the mean value for each sampled list (You should print 30 mean values). . Please note: you need to import p2Lib1.in order to use meanList(); you also need to import p2Lib2.in order to use sampling().\n",
    "\n",
    "The expected outputs are shown below:\n",
    "The mean of 5 samples with replacement is 133.21\n",
    "......(Omit 4 lines)\n",
    "The mean of 10 samples with replacement is 132.85\n",
    "......(Omit 4 lines)\n",
    "The mean of 30 samples with replacement is 131.93\n",
    "......(Omit 4 lines)\n",
    "The mean of 5 samples without replacement is 126.33\n",
    "......(Omit 4 lines)\n",
    "The mean of 10 samples without replacement is 124.41\n",
    "......(Omit 4 lines)\n",
    "The mean of 30 samples without replacement is 130.92\n",
    "......(Omit 4 lines)"
   ]
  },
  {
   "cell_type": "code",
   "execution_count": 4,
   "metadata": {
    "execution": {
     "iopub.execute_input": "2022-02-18T21:27:44.220716Z",
     "iopub.status.busy": "2022-02-18T21:27:44.220428Z",
     "iopub.status.idle": "2022-02-18T21:27:44.240891Z",
     "shell.execute_reply": "2022-02-18T21:27:44.239896Z",
     "shell.execute_reply.started": "2022-02-18T21:27:44.220681Z"
    }
   },
   "outputs": [
    {
     "name": "stdout",
     "output_type": "stream",
     "text": [
      "The mean of 5 samples with replacement is 130.38\n",
      "The mean of 10 samples with replacement is 125.05\n",
      "The mean of 50 samples with replacement is 130.7\n",
      "The mean of 5 samples without replacement 127.94\n",
      "The mean of 10 samples without replacement 125.26\n",
      "The mean of 50 samples without replacement 129.5\n"
     ]
    }
   ],
   "source": [
    "# p2App2.py to use sampling()    \n",
    "withSampling=True   \n",
    "size=[5, 10, 50]\n",
    "for s in size:\n",
    "    numbers=sampling(data, s, withSampling)\n",
    "    print(\"The mean of\", s ,\"samples with replacement is\", meanList(numbers))\n",
    "\n",
    "withSampling=False    \n",
    "for s in size:\n",
    "    temp=sampling(data, s, withSampling)\n",
    "    print(\"The mean of\", s ,\"samples without replacement\", meanList(temp))"
   ]
  },
  {
   "cell_type": "markdown",
   "metadata": {},
   "source": [
    "#### Your Deliverables:\n",
    "•\tFour Python programs (in the same folder), i.e., p2Lib1.py; p2App1.py; p2Lib2.py, p2App2.py"
   ]
  }
 ],
 "metadata": {
  "kernelspec": {
   "display_name": "Python 3 (ipykernel)",
   "language": "python",
   "name": "python3"
  },
  "language_info": {
   "codemirror_mode": {
    "name": "ipython",
    "version": 3
   },
   "file_extension": ".py",
   "mimetype": "text/x-python",
   "name": "python",
   "nbconvert_exporter": "python",
   "pygments_lexer": "ipython3",
   "version": "3.9.7"
  }
 },
 "nbformat": 4,
 "nbformat_minor": 4
}
