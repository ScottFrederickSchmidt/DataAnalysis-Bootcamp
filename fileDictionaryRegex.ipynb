{
 "cells": [
  {
   "cell_type": "markdown",
   "metadata": {},
   "source": [
    "## Python Student Record Application \n",
    "Scott Schmidt; Illinois State University with Dr. Tang\n",
    "\n",
    "In this programming assignment, you will do develop a Python application that take user information from multiple files into a Python dictionary data structure (which could be very easily saved into a database later).\n",
    "\n",
    "Write a program called p5.py to: (1) retrieve user name (first name and last name), email address, and IP address from each text file; (2) save all user information into a Python dictionary called userInfoDict with the email address as the key, and both user name and the access IP address as the value; (3) Print userInfoDict."
   ]
  },
  {
   "cell_type": "code",
   "execution_count": 4,
   "metadata": {
    "execution": {
     "iopub.execute_input": "2022-04-08T21:15:44.750535Z",
     "iopub.status.busy": "2022-04-08T21:15:44.749571Z",
     "iopub.status.idle": "2022-04-08T21:15:44.765532Z",
     "shell.execute_reply": "2022-04-08T21:15:44.764547Z",
     "shell.execute_reply.started": "2022-04-08T21:15:44.750486Z"
    }
   },
   "outputs": [
    {
     "name": "stdout",
     "output_type": "stream",
     "text": [
      "{1: ('Glen', 'Wilson', 'gwilson@gmail.com', '172.39.112.76'), 2: ('Cindy', 'Tady', 'cindy@gmail.com', '123.18.19.20'), 3: ('Emma', 'Lim', 'emma@att.com.', '11.11.11.11'), 4: ('Anna', 'Smith', 'asmith@xfinity.com.', '172.28.19.15'), 5: ('Jack', 'Hosack', 'hosack@comcast.com.', '196.88.45.23')}\n"
     ]
    }
   ],
   "source": [
    "import re\n",
    "userInfoDict={} \n",
    "\n",
    "nums=[1,2,3,4,5]\n",
    "for n in nums:\n",
    "    #READ FILE:\n",
    "    f=open(r'C:\\Users\\sschm\\Desktop\\UserLog\\t'+str(n)+'.txt')  #f = open(\"/kaggle/input/userlog/t\"+str(n)+\".txt\", \"r\")\n",
    "    file=f.read()\n",
    "    s=file.split(\" \") #easier to find first and last name\n",
    "    \n",
    "    #RETRIEVE DATA:\n",
    "    firstName=s[0]\n",
    "    lastName=s[1]\n",
    "    ip = re.findall(r'[0-9]+(?:\\.[0-9]+){3}', file )[0]\n",
    "    email=re.search(r'[\\w.+-]+@[\\w-]+\\.[\\w.-]+', file)[0]\n",
    "    \n",
    "    #STORE DATA:\n",
    "    userInfoDict[n]=firstName, lastName, email, ip\n",
    "\n",
    "print(userInfoDict) #print dictionary"
   ]
  },
  {
   "cell_type": "code",
   "execution_count": null,
   "metadata": {},
   "outputs": [],
   "source": []
  }
 ],
 "metadata": {
  "kernelspec": {
   "display_name": "Python 3 (ipykernel)",
   "language": "python",
   "name": "python3"
  },
  "language_info": {
   "codemirror_mode": {
    "name": "ipython",
    "version": 3
   },
   "file_extension": ".py",
   "mimetype": "text/x-python",
   "name": "python",
   "nbconvert_exporter": "python",
   "pygments_lexer": "ipython3",
   "version": "3.9.7"
  }
 },
 "nbformat": 4,
 "nbformat_minor": 4
}
