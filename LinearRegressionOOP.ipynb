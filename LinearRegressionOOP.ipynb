{
 "cells": [
  {
   "cell_type": "markdown",
   "metadata": {},
   "source": [
    "# Linear Regression OOP\n",
    "Python Automation; Scott Schmidt; Illinois State University with Dr. Tang\n",
    "\n",
    "Using OOP and linear regression without the use of imports ensures an individual will gain a full understanding of both Python and statistics. "
   ]
  },
  {
   "cell_type": "markdown",
   "metadata": {},
   "source": [
    "## Math Functions\n",
    "Three functions called sumList(), meanList(), and stdevList() will be used to calculate the mean and standard deviation of any given list. Each function has a list as an input, and returns the corresponding result."
   ]
  },
  {
   "cell_type": "code",
   "execution_count": 1,
   "metadata": {},
   "outputs": [],
   "source": [
    "import numpy as np # linear algebra\n",
    "import pandas as pd # data processing, CSV file I/O (e.g. pd.read_csv)\n",
    "from sklearn.model_selection import train_test_split, cross_validate\n",
    "from sklearn.metrics import mean_absolute_error, mean_squared_error\n",
    "\n",
    "#Return the total:\n",
    "def sumList(numbers):\n",
    "    count=0\n",
    "    for num in numbers:\n",
    "        count=count+float(num)\n",
    "    total=round(count,2)\n",
    "    return total\n",
    "\n",
    "#Return the mean:\n",
    "def meanList(numbers):\n",
    "    numbers=list(numbers)\n",
    "    total=sumList(numbers)\n",
    "    length=len(numbers)\n",
    "    mean=total/length\n",
    "    return round(mean,2)\n",
    "\n",
    "# Calculate the variance of a list of numbers:\n",
    "def varianceList(aList):\n",
    "    # calculate mean\n",
    "    m = meanList(aList)\n",
    "\n",
    "    # calculate variance using a list comprehension\n",
    "    var = sum((xi - m) ** 2 for xi in aList) / len(aList)\n",
    "    return var\n",
    "\n",
    "#Calculate the covariance of two lists of numbers:\n",
    "def covarianceList(x, y):\n",
    "    # Finding the mean of the series x and y\n",
    "    mean_x = meanList(x)\n",
    "    mean_y = meanList(y)\n",
    "    \n",
    "    # Subtracting mean from the individual elements\n",
    "    sub_x = [i - mean_x for i in x]\n",
    "    sub_y = [i - mean_y for i in y]\n",
    "    \n",
    "    numerator = sum([sub_x[i]*sub_y[i] for i in range(len(sub_x))])\n",
    "    denominator = len(x)-1\n",
    "    cov = numerator/denominator\n",
    "    return cov"
   ]
  },
  {
   "cell_type": "markdown",
   "metadata": {},
   "source": [
    "# LinearRegression\n",
    "The expected output should be: \"The coefficients b0 is ###;  b1 is ###,  RMSE is ###"
   ]
  },
  {
   "cell_type": "code",
   "execution_count": 2,
   "metadata": {},
   "outputs": [
    {
     "name": "stdout",
     "output_type": "stream",
     "text": [
      "Starting Linear Regression Program.\n",
      "loading data\n",
      "Split data into x and y\n",
      "Split into x_train x_test y_train y_test\n",
      "Fit data. coef is:  20310.453335807608  and intercept is:  10246.716244334239\n",
      "Predictions made:  [[[32588.21 36650.31 40712.4  50867.62 54929.71 69147.03 71178.08]]]\n",
      "RMSE is  10027.67\n"
     ]
    }
   ],
   "source": [
    "class MyLinearRegression:\n",
    "    def __init__(self):\n",
    "        self.coef= None # b1\n",
    "        self.intercept = None #b0\n",
    "        \n",
    "    def loadData(self, file):\n",
    "        df = pd.read_csv(file, header=None, names=['x', 'y'])\n",
    "        self.df=df\n",
    "        print(\"loading data\")\n",
    "        return df\n",
    "        \n",
    "    def split(self, data):\n",
    "        x=list(data['x'])\n",
    "        y=list(data['y'])\n",
    "        self.x=x\n",
    "        self.y=y\n",
    "        print(\"Split data into x and y\")\n",
    "        return x,y\n",
    "    \n",
    "    def train_test_split(self, x, y, ratio):\n",
    "        length=len(x)\n",
    "        middle = int(length * ratio)\n",
    "        X_test=[x[:middle]]\n",
    "        y_test=[y[:middle]]\n",
    "        X_train=[x[middle:]]\n",
    "        y_train=[y[middle:]]\n",
    "        self.X_train= X_train\n",
    "        self.X_test= X_test\n",
    "        self.y_train=y_train\n",
    "        self.y_test=y_test\n",
    "        print(\"Split into x_train x_test y_train y_test\")\n",
    "        return X_train, X_test, y_train, y_test\n",
    "          \n",
    "    def fit(self, x, y):\n",
    "        x=x[0]\n",
    "        y=y[0]\n",
    "        w1 = covarianceList(x, y) / varianceList(x)\n",
    "        w0 = meanList(y) - (w1 * meanList(x))\n",
    "        self.intercept=w1\n",
    "        self.coef=w0\n",
    "        print(\"Fit data. coef is: \", w0, \" and intercept is: \", w1)\n",
    "\n",
    "    def predict(self, x_test):\n",
    "        coef=self.coef\n",
    "        x_new=np.array([x_test])\n",
    "        predictions = np.round_(self.intercept + x_new*self.coef, decimals=2)\n",
    "        self.predictions=predictions\n",
    "        print(\"Predictions made: \", predictions)\n",
    "        return predictions\n",
    "\n",
    "    def evalRMSE(self, predictions, y_test):\n",
    "        diff=np.subtract(predictions,y_test)\n",
    "        square=np.square(diff)\n",
    "        MSE=square.mean()\n",
    "        RMSE=np.sqrt(MSE)\n",
    "        RMSE=np.round_(RMSE, decimals=2)\n",
    "        return RMSE\n",
    "\n",
    "if __name__ == '__main__':\n",
    "    print(\"Starting Linear Regression Program.\")\n",
    "    lr=MyLinearRegression()\n",
    "    file=lr.loadData(r'C:\\Users\\sschm\\Desktop\\IT170\\salary.csv')  #file=lr.loadData(r'/kaggle/input/salary/salary.csv') \n",
    "    data=lr.split(file)\n",
    "    x=data[0]\n",
    "    y=data[1]\n",
    "    X_train, X_test, y_train, y_test=lr.train_test_split(x, y, .25)\n",
    "    lr.fit(X_train, y_train)\n",
    "    predictions=lr.predict(X_test)\n",
    "    rmse=lr.evalRMSE(predictions, y_test)\n",
    "    print(\"RMSE is \", rmse)"
   ]
  },
  {
   "cell_type": "markdown",
   "metadata": {},
   "source": [
    "## References\n",
    "1. https://medium.com/analytics-vidhya/oop-machinelearning-powerful-a9b936a8db48"
   ]
  }
 ],
 "metadata": {
  "kernelspec": {
   "display_name": "Python 3 (ipykernel)",
   "language": "python",
   "name": "python3"
  },
  "language_info": {
   "codemirror_mode": {
    "name": "ipython",
    "version": 3
   },
   "file_extension": ".py",
   "mimetype": "text/x-python",
   "name": "python",
   "nbconvert_exporter": "python",
   "pygments_lexer": "ipython3",
   "version": "3.9.7"
  }
 },
 "nbformat": 4,
 "nbformat_minor": 4
}
