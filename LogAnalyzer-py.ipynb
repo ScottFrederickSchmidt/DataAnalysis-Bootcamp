{
 "cells": [
  {
   "cell_type": "markdown",
   "id": "8a465251",
   "metadata": {
    "papermill": {
     "duration": 0.011477,
     "end_time": "2022-04-28T14:35:10.719852",
     "exception": false,
     "start_time": "2022-04-28T14:35:10.708375",
     "status": "completed"
    },
    "tags": []
   },
   "source": [
    "## LogAnalyzerApp\n",
    "Scott Schmidt; Python Automation; Illinois State University\n",
    "\n",
    "This automation program uses regex to srap through over one hundred thousands log files to find IP address, status, action, and date. After storing data into a dataframe, we can run queries to find important information such as most common IP address with a status code of 200.\n",
    "\n",
    "#### Log File Example: \n",
    "80.110.186.51 - - [21/Dec/2015:17:20:12 +0100] \"GET /images/stories/raith/oststeiermark.png HTTP/1.1\" 200 65225 \"http://www.almhuette-raith.at/\" \"Mozilla/5.0 (iPad; CPU OS 9_1 like Mac OS X) AppleWebKit/601.1.46 (KHTML, like Gecko) Version/9.0 Mobile/13B143 Safari/601.1\" \"-\""
   ]
  },
  {
   "cell_type": "code",
   "execution_count": 1,
   "id": "38ef2099",
   "metadata": {
    "execution": {
     "iopub.execute_input": "2022-04-28T14:35:10.742982Z",
     "iopub.status.busy": "2022-04-28T14:35:10.742474Z",
     "iopub.status.idle": "2022-04-28T14:35:12.599723Z",
     "shell.execute_reply": "2022-04-28T14:35:12.598677Z"
    },
    "papermill": {
     "duration": 1.872658,
     "end_time": "2022-04-28T14:35:12.603020",
     "exception": false,
     "start_time": "2022-04-28T14:35:10.730362",
     "status": "completed"
    },
    "tags": []
   },
   "outputs": [
    {
     "name": "stdout",
     "output_type": "stream",
     "text": [
      "running\n",
      "File closing.\n",
      "File closing.\n",
      "File closing.\n",
      "Done. Total files found:  106999\n"
     ]
    }
   ],
   "source": [
    "import pandas as pd\n",
    "import re\n",
    "import time\n",
    "\n",
    "class LogAnalyzerApp:\n",
    "    def __init__(self, files):\n",
    "        self.file = files\n",
    "        \n",
    "    def analyzeFile(self):\n",
    "        #STORE INTO LISTS TO CREATE DATAFRAME LATER:\n",
    "        dayList=[]\n",
    "        monthList=[]\n",
    "        yearList=[]\n",
    "        ipList=[]\n",
    "        actionList=[]\n",
    "        statusList=[]\n",
    "        count=0\n",
    "        \n",
    "        for f in files:\n",
    "            f = open(f, \"r\")\n",
    "            content = f.read()\n",
    "            content_list = content.splitlines()\n",
    "            for c in content_list:      \n",
    "                date=re.search(r'(?<=\\[).+?(?=\\:)',c)[0]\n",
    "                dates=date.split('/')\n",
    "                num=int(dates[0])\n",
    "                month=dates[1]\n",
    "                year=int(dates[2])\n",
    "                if month=='Feb' and num>17 and year==2016 or month=='Mar' and num==1 and year==2016:\n",
    "                    #print(num, month, year)\n",
    "                    count=count+1\n",
    "\n",
    "                ip = re.match(r'[0-9]+(?:\\.[0-9]+){3}', c )[0]\n",
    "                action='GET'\n",
    "                status='200'\n",
    "                if 'POST' in c:\n",
    "                    action='POST'\n",
    "                if '404' in c:\n",
    "                    status='404'\n",
    "                \n",
    "                dayList.append(num)\n",
    "                monthList.append(month)\n",
    "                yearList.append(year)\n",
    "                ipList.append(ip)\n",
    "                actionList.append(action)\n",
    "                statusList.append(status)\n",
    "                \n",
    "            f.close()\n",
    "            print(\"File closing.\")\n",
    "        print(\"Done. Total files found: \", count)\n",
    "\n",
    "        df = pd.DataFrame(list(zip(dayList, monthList, yearList, \n",
    "                                   ipList, actionList, statusList)),\n",
    "                          columns=['Day', 'Month', 'Year', 'IP', 'Action', 'Status'])\n",
    "        return df\n",
    "    \n",
    "    def topIP(self, df):\n",
    "        \"\"\"\n",
    "        returns most IP in dataframe\n",
    "\n",
    "        :param df: dataframe data\n",
    "        :param p2: describe about parameter p2\n",
    "        :return: most common IP\n",
    "        \"\"\" \n",
    "        return df['IP'].value_counts\n",
    "        \n",
    "if __name__ == \"__main__\":\n",
    "    print(\"running\")\n",
    "    \n",
    "    file1='/kaggle/input/access-log/access_1.log'\n",
    "    file2='/kaggle/input/access-log/access_2.log'\n",
    "    file3='/kaggle/input/access-log/access_3.log'\n",
    "    files=[file1, file2, file3]\n",
    "    \n",
    "    log=LogAnalyzerApp(files)\n",
    "    df=log.analyzeFile()"
   ]
  },
  {
   "cell_type": "markdown",
   "id": "7aa9d13c",
   "metadata": {
    "papermill": {
     "duration": 0.01199,
     "end_time": "2022-04-28T14:35:12.627827",
     "exception": false,
     "start_time": "2022-04-28T14:35:12.615837",
     "status": "completed"
    },
    "tags": []
   },
   "source": [
    "### View Data "
   ]
  },
  {
   "cell_type": "code",
   "execution_count": 2,
   "id": "7418c4cb",
   "metadata": {
    "execution": {
     "iopub.execute_input": "2022-04-28T14:35:12.653257Z",
     "iopub.status.busy": "2022-04-28T14:35:12.652965Z",
     "iopub.status.idle": "2022-04-28T14:35:12.677093Z",
     "shell.execute_reply": "2022-04-28T14:35:12.675906Z"
    },
    "papermill": {
     "duration": 0.039481,
     "end_time": "2022-04-28T14:35:12.679316",
     "exception": false,
     "start_time": "2022-04-28T14:35:12.639835",
     "status": "completed"
    },
    "tags": []
   },
   "outputs": [
    {
     "data": {
      "text/html": [
       "<div>\n",
       "<style scoped>\n",
       "    .dataframe tbody tr th:only-of-type {\n",
       "        vertical-align: middle;\n",
       "    }\n",
       "\n",
       "    .dataframe tbody tr th {\n",
       "        vertical-align: top;\n",
       "    }\n",
       "\n",
       "    .dataframe thead th {\n",
       "        text-align: right;\n",
       "    }\n",
       "</style>\n",
       "<table border=\"1\" class=\"dataframe\">\n",
       "  <thead>\n",
       "    <tr style=\"text-align: right;\">\n",
       "      <th></th>\n",
       "      <th>Day</th>\n",
       "      <th>Month</th>\n",
       "      <th>Year</th>\n",
       "      <th>IP</th>\n",
       "      <th>Action</th>\n",
       "      <th>Status</th>\n",
       "    </tr>\n",
       "  </thead>\n",
       "  <tbody>\n",
       "    <tr>\n",
       "      <th>0</th>\n",
       "      <td>21</td>\n",
       "      <td>Dec</td>\n",
       "      <td>2015</td>\n",
       "      <td>80.110.186.51</td>\n",
       "      <td>GET</td>\n",
       "      <td>200</td>\n",
       "    </tr>\n",
       "    <tr>\n",
       "      <th>1</th>\n",
       "      <td>21</td>\n",
       "      <td>Dec</td>\n",
       "      <td>2015</td>\n",
       "      <td>80.110.186.51</td>\n",
       "      <td>GET</td>\n",
       "      <td>200</td>\n",
       "    </tr>\n",
       "    <tr>\n",
       "      <th>2</th>\n",
       "      <td>21</td>\n",
       "      <td>Dec</td>\n",
       "      <td>2015</td>\n",
       "      <td>80.110.186.51</td>\n",
       "      <td>GET</td>\n",
       "      <td>200</td>\n",
       "    </tr>\n",
       "    <tr>\n",
       "      <th>3</th>\n",
       "      <td>21</td>\n",
       "      <td>Dec</td>\n",
       "      <td>2015</td>\n",
       "      <td>80.110.186.51</td>\n",
       "      <td>GET</td>\n",
       "      <td>200</td>\n",
       "    </tr>\n",
       "    <tr>\n",
       "      <th>4</th>\n",
       "      <td>21</td>\n",
       "      <td>Dec</td>\n",
       "      <td>2015</td>\n",
       "      <td>80.110.186.51</td>\n",
       "      <td>GET</td>\n",
       "      <td>200</td>\n",
       "    </tr>\n",
       "  </tbody>\n",
       "</table>\n",
       "</div>"
      ],
      "text/plain": [
       "   Day Month  Year             IP Action Status\n",
       "0   21   Dec  2015  80.110.186.51    GET    200\n",
       "1   21   Dec  2015  80.110.186.51    GET    200\n",
       "2   21   Dec  2015  80.110.186.51    GET    200\n",
       "3   21   Dec  2015  80.110.186.51    GET    200\n",
       "4   21   Dec  2015  80.110.186.51    GET    200"
      ]
     },
     "execution_count": 2,
     "metadata": {},
     "output_type": "execute_result"
    }
   ],
   "source": [
    "    df.head()"
   ]
  },
  {
   "cell_type": "markdown",
   "id": "976e27b2",
   "metadata": {
    "papermill": {
     "duration": 0.012207,
     "end_time": "2022-04-28T14:35:12.704495",
     "exception": false,
     "start_time": "2022-04-28T14:35:12.692288",
     "status": "completed"
    },
    "tags": []
   },
   "source": [
    "### Most Common IP address\n",
    "Count is a paramter that will return how many most common IP addresses.\n",
    "In this case, it will return ten, since count is 10."
   ]
  },
  {
   "cell_type": "code",
   "execution_count": 3,
   "id": "e73d00f7",
   "metadata": {
    "execution": {
     "iopub.execute_input": "2022-04-28T14:35:12.733089Z",
     "iopub.status.busy": "2022-04-28T14:35:12.732171Z",
     "iopub.status.idle": "2022-04-28T14:35:13.090553Z",
     "shell.execute_reply": "2022-04-28T14:35:13.089449Z"
    },
    "papermill": {
     "duration": 0.375679,
     "end_time": "2022-04-28T14:35:13.093186",
     "exception": false,
     "start_time": "2022-04-28T14:35:12.717507",
     "status": "completed"
    },
    "tags": []
   },
   "outputs": [
    {
     "data": {
      "text/plain": [
       "<AxesSubplot:>"
      ]
     },
     "execution_count": 3,
     "metadata": {},
     "output_type": "execute_result"
    },
    {
     "data": {
      "image/png": "[encoded data removed]",
      "text/plain": [
       "<Figure size 432x288 with 1 Axes>"
      ]
     },
     "metadata": {
      "needs_background": "light"
     },
     "output_type": "display_data"
    }
   ],
   "source": [
    "    df['IP'].value_counts().head(10).plot(kind='bar')"
   ]
  },
  {
   "cell_type": "markdown",
   "id": "f6a560f8",
   "metadata": {
    "papermill": {
     "duration": 0.013444,
     "end_time": "2022-04-28T14:35:13.121314",
     "exception": false,
     "start_time": "2022-04-28T14:35:13.107870",
     "status": "completed"
    },
    "tags": []
   },
   "source": [
    "### Top5 client IPs with status code 404"
   ]
  },
  {
   "cell_type": "code",
   "execution_count": 4,
   "id": "86d245ed",
   "metadata": {
    "execution": {
     "iopub.execute_input": "2022-04-28T14:35:13.151717Z",
     "iopub.status.busy": "2022-04-28T14:35:13.151413Z",
     "iopub.status.idle": "2022-04-28T14:35:13.393404Z",
     "shell.execute_reply": "2022-04-28T14:35:13.392737Z"
    },
    "papermill": {
     "duration": 0.259378,
     "end_time": "2022-04-28T14:35:13.395244",
     "exception": false,
     "start_time": "2022-04-28T14:35:13.135866",
     "status": "completed"
    },
    "tags": []
   },
   "outputs": [
    {
     "data": {
      "text/plain": [
       "<AxesSubplot:>"
      ]
     },
     "execution_count": 4,
     "metadata": {},
     "output_type": "execute_result"
    },
    {
     "data": {
      "image/png": "[encoded data removed]",
      "text/plain": [
       "<Figure size 432x288 with 1 Axes>"
      ]
     },
     "metadata": {
      "needs_background": "light"
     },
     "output_type": "display_data"
    }
   ],
   "source": [
    "    df404=df.loc[(df['Status']=='404')]\n",
    "    df404['IP'].value_counts().head().plot(kind='bar')"
   ]
  },
  {
   "cell_type": "markdown",
   "id": "07f713a7",
   "metadata": {
    "papermill": {
     "duration": 0.017483,
     "end_time": "2022-04-28T14:35:13.433925",
     "exception": false,
     "start_time": "2022-04-28T14:35:13.416442",
     "status": "completed"
    },
    "tags": []
   },
   "source": [
    "### Top5 client IPs with HTTP action POST and status code 200"
   ]
  },
  {
   "cell_type": "code",
   "execution_count": 5,
   "id": "35b0df81",
   "metadata": {
    "execution": {
     "iopub.execute_input": "2022-04-28T14:35:13.468264Z",
     "iopub.status.busy": "2022-04-28T14:35:13.467966Z",
     "iopub.status.idle": "2022-04-28T14:35:13.728475Z",
     "shell.execute_reply": "2022-04-28T14:35:13.727386Z"
    },
    "papermill": {
     "duration": 0.280927,
     "end_time": "2022-04-28T14:35:13.730877",
     "exception": false,
     "start_time": "2022-04-28T14:35:13.449950",
     "status": "completed"
    },
    "tags": []
   },
   "outputs": [
    {
     "data": {
      "text/plain": [
       "<AxesSubplot:>"
      ]
     },
     "execution_count": 5,
     "metadata": {},
     "output_type": "execute_result"
    },
    {
     "data": {
      "image/png": "[encoded data removed]",
      "text/plain": [
       "<Figure size 432x288 with 1 Axes>"
      ]
     },
     "metadata": {
      "needs_background": "light"
     },
     "output_type": "display_data"
    }
   ],
   "source": [
    "    dfPOST=df.loc[(df['Status']=='200') & (df['Action']==\"POST\")]\n",
    "    dfPOST['IP'].value_counts().head().plot(kind='bar')"
   ]
  },
  {
   "cell_type": "markdown",
   "id": "54e5da6a",
   "metadata": {
    "papermill": {
     "duration": 0.016257,
     "end_time": "2022-04-28T14:35:13.763707",
     "exception": false,
     "start_time": "2022-04-28T14:35:13.747450",
     "status": "completed"
    },
    "tags": []
   },
   "source": [
    "## Log Analyzer Application Full Instructions\n",
    "Use OOP to develop a Log Analyzer Application (LogAnalyzerApp) to analyze web access logs. The log.zip file includes all log files (i.e., access_1.log, access_2.log, access_3.log).  The larger N of a file name, the newer the file is.\n",
    "\n",
    "In this mini project, you need do the following:\n",
    "1. Define and implement a LogAnalyzer class, which can: Read all log files under a given folder such as “log”. We assume the naming convention of a log file is access_N.log. We assume there could be any number of log files under this folder. So don’t hard code “3” as a limit.\n",
    "2. Search for client IP, timestamp, HTTP actions (e.g., GET, POST, HEAD), HTTP status codes.  \n",
    "3. Response to the following queries with formatted output:\n",
    "* TopN client IPs (N can be specified by a user, say 3, 5, 10) among all monitored time period or a specific time window (e.g., between 18/Feb/2016 and 01/Mar/2016)\n",
    "* TopN HTTP actions (N can be specified by a user, say 1, 2, 3) among all monitored time period or a specific time window (e.g., between 18/Feb/2016 and 01/Mar/2016)\n",
    "* TopN client IPs (N can be specified by a user, say 3, 5, 10) with status code (e.g., 200 or 404) among all monitored time period or a specific time window (e.g., between 18/Feb/2016 and 01/Mar/2016)\n",
    "* TopN client IPs (N can be specified by a user, say 3, 5, 10) with a specific action (e.g., GET, or POST) and status code (200 or 404) among all monitored time period or a specific time window (e.g., between 18/Feb/2016 and 01/Mar/2016)\n",
    "(You are free to define necessary methods/fields and use any number of parameters for the methods as needed)\n",
    "\n",
    "Develop a Python application called LogAnalyzer.py. In LogAnalyzerApp, you create an instance of LogAnalyzer and parse the log files under a given folder (e.g., log). Test your program with the following queries. Print a report (and take a screenshot) for all these queries:\n",
    "* Top10 client IPs between 18/Feb/2016 and 01/Mar/2016)\n",
    "* Top3 HTTP actions between 18/Feb/2016 and 01/Mar/2016)\n",
    "* Top5 client IPs with status code 404 between 18/Feb/2016 and 01/Mar/2016)\n",
    "* Top5 client IPs with HTTP action POST and status code 200 between 18/Feb/2016 and 01/Mar/2016)\n",
    "\n",
    "Your Deliverables:\n",
    "* A single Python program called LogAnalyzer.py (including the class LogAnalyzer)\n",
    "* One word document called test.doc including the screenshot of the printed report. \n",
    "\n",
    "Grading Policy:\n",
    "1.\t10 points for LogAnalyzer class design: appropriate selection of fields and methods.\n",
    "2.\t45 points for correct implementation of the class LogAnalyzer.\n",
    "3.\t12 points for correct implementation of LogAnalyzerApp.\n",
    "4.\t3 points for the screenshot."
   ]
  }
 ],
 "metadata": {
  "kernelspec": {
   "display_name": "Python 3",
   "language": "python",
   "name": "python3"
  },
  "language_info": {
   "codemirror_mode": {
    "name": "ipython",
    "version": 3
   },
   "file_extension": ".py",
   "mimetype": "text/x-python",
   "name": "python",
   "nbconvert_exporter": "python",
   "pygments_lexer": "ipython3",
   "version": "3.7.12"
  },
  "papermill": {
   "default_parameters": {},
   "duration": 14.594302,
   "end_time": "2022-04-28T14:35:14.503270",
   "environment_variables": {},
   "exception": null,
   "input_path": "__notebook__.ipynb",
   "output_path": "__notebook__.ipynb",
   "parameters": {},
   "start_time": "2022-04-28T14:34:59.908968",
   "version": "2.3.4"
  }
 },
 "nbformat": 4,
 "nbformat_minor": 5
}
