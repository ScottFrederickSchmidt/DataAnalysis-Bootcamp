{
 "cells": [
  {
   "cell_type": "markdown",
   "id": "d114737b",
   "metadata": {
    "papermill": {
     "duration": 0.002874,
     "end_time": "2022-10-28T20:07:33.390482",
     "exception": false,
     "start_time": "2022-10-28T20:07:33.387608",
     "status": "completed"
    },
    "tags": []
   },
   "source": [
    "# Risk Analysis for a New Product Launch\n",
    "The management of Madeira Computing is considering the introduction of a wearable electronic device with the functionality of a phone. The fixed cost to launch this new product is 300,000.  The variable cost for the product is expected to be between 160 and 240, with a most likely value (mode) of 200 per unit. The product will sell for 300 per unit. Demand for the product is expected to range from 0 to approximately 20,000 units, with 4,000 units being the most likely (i.e. the mode)."
   ]
  },
  {
   "cell_type": "code",
   "execution_count": 1,
   "id": "af6f34fc",
   "metadata": {
    "execution": {
     "iopub.execute_input": "2022-10-28T20:07:33.396611Z",
     "iopub.status.busy": "2022-10-28T20:07:33.396086Z",
     "iopub.status.idle": "2022-10-28T20:07:34.258645Z",
     "shell.execute_reply": "2022-10-28T20:07:34.257385Z"
    },
    "papermill": {
     "duration": 0.868715,
     "end_time": "2022-10-28T20:07:34.261226",
     "exception": false,
     "start_time": "2022-10-28T20:07:33.392511",
     "status": "completed"
    },
    "tags": []
   },
   "outputs": [
    {
     "name": "stdout",
     "output_type": "stream",
     "text": [
      "Starting projected profit simulation:\n",
      "0.73  profit chance\n",
      "0.27  loss chance\n",
      "$ 318194.56\n",
      "Calculations Done.\n"
     ]
    }
   ],
   "source": [
    "from scipy.stats import gamma\n",
    "import statistics\n",
    "import random\n",
    "import numpy as np\n",
    "\n",
    "print(\"Starting projected profit simulation:\")\n",
    "#Variables:\n",
    "sell_price=300\n",
    "fixed_cost=300_000\n",
    "estimations=1000\n",
    "\n",
    "#Storing for calculations:\n",
    "profitList=[]\n",
    "loss_count=0\n",
    "profit_count=0\n",
    "\n",
    "variableList=list(range(160, 241))\n",
    "\n",
    "'''\n",
    "Demand Distribution: Assume that the product demand can be well-approximated as\n",
    "1,000 times the value of a gamma random variable with an alpha parameter of 3 and a beta parameter of 2.\n",
    "'''\n",
    "shape, scale = 2, 3  \n",
    "unitList = list(np.random.gamma(shape, scale, 1000)*1000)\n",
    "\n",
    "for num in range(estimations+1):\n",
    "    rand_variable_cost=random.choice(variableList)\n",
    "    rand_units=random.choice(unitList)\n",
    "    margin_cost=sell_price-rand_variable_cost\n",
    "    margin_money=margin_cost*rand_units\n",
    "    profit=margin_money-fixed_cost\n",
    "    profitList.append(profit)\n",
    "    \n",
    "    if profit>0:\n",
    "        profit_count+=1\n",
    "    else:\n",
    "        loss_count+=1\n",
    "        \n",
    "print(round(profit_count/len(profitList),2), \" profit chance\")\n",
    "print(round(loss_count/len(profitList),2), \" loss chance\")\n",
    "print(\"$\", round(statistics.mean(profitList), 2))\n",
    "print(\"Calculations Done.\")"
   ]
  },
  {
   "cell_type": "code",
   "execution_count": 2,
   "id": "9271c5c2",
   "metadata": {
    "execution": {
     "iopub.execute_input": "2022-10-28T20:07:34.267084Z",
     "iopub.status.busy": "2022-10-28T20:07:34.266382Z",
     "iopub.status.idle": "2022-10-28T20:07:34.739523Z",
     "shell.execute_reply": "2022-10-28T20:07:34.738232Z"
    },
    "papermill": {
     "duration": 0.479471,
     "end_time": "2022-10-28T20:07:34.742730",
     "exception": false,
     "start_time": "2022-10-28T20:07:34.263259",
     "status": "completed"
    },
    "tags": []
   },
   "outputs": [
    {
     "data": {
      "image/png": "[encoded data removed]",
      "text/plain": [
       "<Figure size 432x288 with 1 Axes>"
      ]
     },
     "metadata": {
      "needs_background": "light"
     },
     "output_type": "display_data"
    }
   ],
   "source": [
    "import matplotlib.pyplot as plt\n",
    "import scipy.special as sps  \n",
    "def plotGamma():\n",
    "    count, bins, ignored = plt.hist(unitList, 50, density=True)\n",
    "    y = bins**(shape-1)*(np.exp(-bins/scale) /  \n",
    "                         (sps.gamma(shape)*scale**shape))\n",
    "    plt.plot(bins, y, linewidth=2, color='r')\n",
    "plotGamma()"
   ]
  }
 ],
 "metadata": {
  "kernelspec": {
   "display_name": "Python 3",
   "language": "python",
   "name": "python3"
  },
  "language_info": {
   "codemirror_mode": {
    "name": "ipython",
    "version": 3
   },
   "file_extension": ".py",
   "mimetype": "text/x-python",
   "name": "python",
   "nbconvert_exporter": "python",
   "pygments_lexer": "ipython3",
   "version": "3.7.12"
  },
  "papermill": {
   "default_parameters": {},
   "duration": 13.117271,
   "end_time": "2022-10-28T20:07:35.569149",
   "environment_variables": {},
   "exception": null,
   "input_path": "__notebook__.ipynb",
   "output_path": "__notebook__.ipynb",
   "parameters": {},
   "start_time": "2022-10-28T20:07:22.451878",
   "version": "2.3.4"
  }
 },
 "nbformat": 4,
 "nbformat_minor": 5
}
