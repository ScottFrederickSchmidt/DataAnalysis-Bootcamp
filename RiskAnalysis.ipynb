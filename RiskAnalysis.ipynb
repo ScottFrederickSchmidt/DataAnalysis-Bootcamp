{
 "cells": [
  {
   "cell_type": "markdown",
   "id": "b2f646c0",
   "metadata": {
    "papermill": {
     "duration": 0.003286,
     "end_time": "2022-10-28T20:20:29.140503",
     "exception": false,
     "start_time": "2022-10-28T20:20:29.137217",
     "status": "completed"
    },
    "tags": []
   },
   "source": [
    "# Risk Analysis for a New Product Launch\n",
    "The management of Madeira Computing is considering the introduction of a wearable electronic device with the functionality of a phone. The fixed cost to launch this new product is 300,000.  The variable cost for the product is expected to be between 160 and 240, with a most likely value (mode) of 200 per unit. The product will sell for 300 per unit. Demand for the product is expected to range from 0 to approximately 20,000 units, with 4,000 units being the most likely (i.e. the mode)."
   ]
  },
  {
   "cell_type": "code",
   "execution_count": 1,
   "id": "0bd43747",
   "metadata": {
    "execution": {
     "iopub.execute_input": "2022-10-28T20:20:29.146929Z",
     "iopub.status.busy": "2022-10-28T20:20:29.146429Z",
     "iopub.status.idle": "2022-10-28T20:20:30.052136Z",
     "shell.execute_reply": "2022-10-28T20:20:30.050653Z"
    },
    "papermill": {
     "duration": 0.913096,
     "end_time": "2022-10-28T20:20:30.055902",
     "exception": false,
     "start_time": "2022-10-28T20:20:29.142806",
     "status": "completed"
    },
    "tags": []
   },
   "outputs": [
    {
     "name": "stdout",
     "output_type": "stream",
     "text": [
      "Starting projected profit simulation:\n",
      "0.72  profit chance\n",
      "0.28  loss chance\n",
      "$ 320300.92\n",
      "Calculations Done.\n"
     ]
    }
   ],
   "source": [
    "from scipy.stats import gamma\n",
    "import statistics\n",
    "import random\n",
    "import numpy as np\n",
    "\n",
    "print(\"Starting projected profit simulation:\")\n",
    "#Variables:\n",
    "sell_price=300\n",
    "fixed_cost=300_000\n",
    "estimations=1000\n",
    "\n",
    "#Storing for calculations:\n",
    "profitList=[]\n",
    "loss_count=0\n",
    "profit_count=0\n",
    "\n",
    "variableList=list(range(160, 241))\n",
    "shape, scale = 2, 3  \n",
    "unitList = list(np.random.gamma(2, 3, 1000)*1000)\n",
    "\n",
    "for num in range(estimations+1):\n",
    "    rand_variable_cost=random.choice(variableList)\n",
    "    rand_units=random.choice(unitList)\n",
    "    margin_cost=sell_price-rand_variable_cost\n",
    "    margin_money=margin_cost*rand_units\n",
    "    profit=margin_money-fixed_cost\n",
    "    profitList.append(profit)\n",
    "    \n",
    "    if profit>0:\n",
    "        profit_count+=1\n",
    "    else:\n",
    "        loss_count+=1\n",
    "        \n",
    "print(round(profit_count/len(profitList),2), \" profit chance\")\n",
    "print(round(loss_count/len(profitList),2), \" loss chance\")\n",
    "print(\"$\", round(statistics.mean(profitList), 2))\n",
    "print(\"Calculations Done.\")"
   ]
  },
  {
   "cell_type": "markdown",
   "id": "d43558a3",
   "metadata": {
    "papermill": {
     "duration": 0.0017,
     "end_time": "2022-10-28T20:20:30.061061",
     "exception": false,
     "start_time": "2022-10-28T20:20:30.059361",
     "status": "completed"
    },
    "tags": []
   },
   "source": [
    "### Gamma Distribution Graph\n",
    "Demand Distribution: Assume that the product demand can be well-approximated as 1,000 times the value of a gamma random variable with an alpha parameter of 3 and a beta parameter of 2. This is unitList that is randomly generated and then graphed. "
   ]
  },
  {
   "cell_type": "code",
   "execution_count": 2,
   "id": "145675d5",
   "metadata": {
    "execution": {
     "iopub.execute_input": "2022-10-28T20:20:30.067220Z",
     "iopub.status.busy": "2022-10-28T20:20:30.066350Z",
     "iopub.status.idle": "2022-10-28T20:20:30.458618Z",
     "shell.execute_reply": "2022-10-28T20:20:30.457553Z"
    },
    "papermill": {
     "duration": 0.398157,
     "end_time": "2022-10-28T20:20:30.461198",
     "exception": false,
     "start_time": "2022-10-28T20:20:30.063041",
     "status": "completed"
    },
    "tags": []
   },
   "outputs": [
    {
     "data": {
      "image/png": "[encoded data removed]",
      "text/plain": [
       "<Figure size 432x288 with 1 Axes>"
      ]
     },
     "metadata": {
      "needs_background": "light"
     },
     "output_type": "display_data"
    }
   ],
   "source": [
    "import matplotlib.pyplot as plt\n",
    "import scipy.special as sps  \n",
    "def plotGamma():\n",
    "    count, bins, ignored = plt.hist(unitList, 50, density=True)\n",
    "    y = bins**(shape-1)*(np.exp(-bins/scale) /  \n",
    "                         (sps.gamma(shape)*scale**shape))\n",
    "    plt.plot(bins, y, linewidth=2, color='r')\n",
    "    plt.show()\n",
    "plotGamma()"
   ]
  }
 ],
 "metadata": {
  "kernelspec": {
   "display_name": "Python 3",
   "language": "python",
   "name": "python3"
  },
  "language_info": {
   "codemirror_mode": {
    "name": "ipython",
    "version": 3
   },
   "file_extension": ".py",
   "mimetype": "text/x-python",
   "name": "python",
   "nbconvert_exporter": "python",
   "pygments_lexer": "ipython3",
   "version": "3.7.12"
  },
  "papermill": {
   "default_parameters": {},
   "duration": 10.716995,
   "end_time": "2022-10-28T20:20:31.184900",
   "environment_variables": {},
   "exception": null,
   "input_path": "__notebook__.ipynb",
   "output_path": "__notebook__.ipynb",
   "parameters": {},
   "start_time": "2022-10-28T20:20:20.467905",
   "version": "2.3.4"
  }
 },
 "nbformat": 4,
 "nbformat_minor": 5
}
