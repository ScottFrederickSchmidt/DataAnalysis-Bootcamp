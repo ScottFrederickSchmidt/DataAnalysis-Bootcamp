{
 "cells": [
  {
   "cell_type": "markdown",
   "id": "9d5561c5",
   "metadata": {
    "papermill": {
     "duration": 0.011692,
     "end_time": "2022-04-27T14:53:50.005036",
     "exception": false,
     "start_time": "2022-04-27T14:53:49.993344",
     "status": "completed"
    },
    "tags": []
   },
   "source": [
    "## LogAnalyzerApp\n",
    "Scott Schmidt; Python Automation; Illinois State University\n",
    "\n",
    "This program uses regex to srap through thousands of log files like the above. It will find important information such as IP address, status, action, and date. After storing into a dataframe, we can run queries to find important information such as most common IP address with a status code of 200.\n",
    "\n",
    "##### Example of a Log File: \n",
    "80.110.186.51 - - [21/Dec/2015:17:20:12 +0100] \"GET /images/stories/raith/oststeiermark.png HTTP/1.1\" 200 65225 \"http://www.almhuette-raith.at/\" \"Mozilla/5.0 (iPad; CPU OS 9_1 like Mac OS X) AppleWebKit/601.1.46 (KHTML, like Gecko) Version/9.0 Mobile/13B143 Safari/601.1\" \"-\""
   ]
  },
  {
   "cell_type": "code",
   "execution_count": 1,
   "id": "06c24100",
   "metadata": {
    "execution": {
     "iopub.execute_input": "2022-04-27T14:53:50.028585Z",
     "iopub.status.busy": "2022-04-27T14:53:50.027928Z",
     "iopub.status.idle": "2022-04-27T14:53:51.971318Z",
     "shell.execute_reply": "2022-04-27T14:53:51.969720Z"
    },
    "papermill": {
     "duration": 1.95886,
     "end_time": "2022-04-27T14:53:51.974502",
     "exception": false,
     "start_time": "2022-04-27T14:53:50.015642",
     "status": "completed"
    },
    "tags": []
   },
   "outputs": [
    {
     "name": "stdout",
     "output_type": "stream",
     "text": [
      "running\n",
      "File closing.\n",
      "File closing.\n",
      "File closing.\n",
      "Done. Total files found:  106999\n"
     ]
    }
   ],
   "source": [
    "import pandas as pd\n",
    "import re\n",
    "import time\n",
    "\n",
    "class LogAnalyzerApp:\n",
    "    def __init__(self, files):\n",
    "        self.file = files\n",
    "        \n",
    "    def analyzeFile(self):\n",
    "        #STORE INTO LISTS TO CREATE DATAFRAME LATER:\n",
    "        dayList=[]\n",
    "        monthList=[]\n",
    "        yearList=[]\n",
    "        ipList=[]\n",
    "        actionList=[]\n",
    "        statusList=[]\n",
    "        count=0\n",
    "        \n",
    "        for f in files:\n",
    "            f = open(f, \"r\")\n",
    "            content = f.read()\n",
    "            content_list = content.splitlines()\n",
    "            for c in content_list:      \n",
    "                date=re.search(r'(?<=\\[).+?(?=\\:)',c)[0]\n",
    "                dates=date.split('/')\n",
    "                num=int(dates[0])\n",
    "                month=dates[1]\n",
    "                year=int(dates[2])\n",
    "                if month=='Feb' and num>17 and year==2016 or month=='Mar' and num==1 and year==2016:\n",
    "                    #print(num, month, year)\n",
    "                    count=count+1\n",
    "\n",
    "                ip = re.match(r'[0-9]+(?:\\.[0-9]+){3}', c )[0]\n",
    "                action='GET'\n",
    "                status='200'\n",
    "                if 'POST' in c:\n",
    "                    action='POST'\n",
    "                if '404' in c:\n",
    "                    status='404'\n",
    "                \n",
    "                dayList.append(num)\n",
    "                monthList.append(month)\n",
    "                yearList.append(year)\n",
    "                ipList.append(ip)\n",
    "                actionList.append(action)\n",
    "                statusList.append(status)\n",
    "                \n",
    "            f.close()\n",
    "            print(\"File closing.\")\n",
    "        print(\"Done. Total files found: \", count)\n",
    "\n",
    "        df = pd.DataFrame(list(zip(dayList, monthList, yearList, \n",
    "                                   ipList, actionList, statusList)),\n",
    "                          columns=['Day', 'Month', 'Year', 'IP', 'Action', 'Status'])\n",
    "        return df\n",
    "    \n",
    "    def topIP(self, df):\n",
    "        \"\"\"\n",
    "        returns most IP in dataframe\n",
    "\n",
    "        :param df: dataframe data\n",
    "        :param p2: describe about parameter p2\n",
    "        :return: most common IP\n",
    "        \"\"\" \n",
    "        return df['IP'].value_counts\n",
    "        \n",
    "if __name__ == \"__main__\":\n",
    "    print(\"running\")\n",
    "    \n",
    "    file1='/kaggle/input/access-log/access_1.log'\n",
    "    file2='/kaggle/input/access-log/access_2.log'\n",
    "    file3='/kaggle/input/access-log/access_3.log'\n",
    "    files=[file1, file2, file3]\n",
    "    \n",
    "    log=LogAnalyzerApp(files)\n",
    "    df=log.analyzeFile()"
   ]
  },
  {
   "cell_type": "markdown",
   "id": "d6b949d4",
   "metadata": {
    "papermill": {
     "duration": 0.011619,
     "end_time": "2022-04-27T14:53:51.998472",
     "exception": false,
     "start_time": "2022-04-27T14:53:51.986853",
     "status": "completed"
    },
    "tags": []
   },
   "source": [
    "#### View Data "
   ]
  },
  {
   "cell_type": "code",
   "execution_count": 2,
   "id": "0e75152d",
   "metadata": {
    "execution": {
     "iopub.execute_input": "2022-04-27T14:53:52.024622Z",
     "iopub.status.busy": "2022-04-27T14:53:52.024258Z",
     "iopub.status.idle": "2022-04-27T14:53:52.047867Z",
     "shell.execute_reply": "2022-04-27T14:53:52.046882Z"
    },
    "papermill": {
     "duration": 0.03997,
     "end_time": "2022-04-27T14:53:52.050199",
     "exception": false,
     "start_time": "2022-04-27T14:53:52.010229",
     "status": "completed"
    },
    "tags": []
   },
   "outputs": [
    {
     "data": {
      "text/html": [
       "<div>\n",
       "<style scoped>\n",
       "    .dataframe tbody tr th:only-of-type {\n",
       "        vertical-align: middle;\n",
       "    }\n",
       "\n",
       "    .dataframe tbody tr th {\n",
       "        vertical-align: top;\n",
       "    }\n",
       "\n",
       "    .dataframe thead th {\n",
       "        text-align: right;\n",
       "    }\n",
       "</style>\n",
       "<table border=\"1\" class=\"dataframe\">\n",
       "  <thead>\n",
       "    <tr style=\"text-align: right;\">\n",
       "      <th></th>\n",
       "      <th>Day</th>\n",
       "      <th>Month</th>\n",
       "      <th>Year</th>\n",
       "      <th>IP</th>\n",
       "      <th>Action</th>\n",
       "      <th>Status</th>\n",
       "    </tr>\n",
       "  </thead>\n",
       "  <tbody>\n",
       "    <tr>\n",
       "      <th>0</th>\n",
       "      <td>21</td>\n",
       "      <td>Dec</td>\n",
       "      <td>2015</td>\n",
       "      <td>80.110.186.51</td>\n",
       "      <td>GET</td>\n",
       "      <td>200</td>\n",
       "    </tr>\n",
       "    <tr>\n",
       "      <th>1</th>\n",
       "      <td>21</td>\n",
       "      <td>Dec</td>\n",
       "      <td>2015</td>\n",
       "      <td>80.110.186.51</td>\n",
       "      <td>GET</td>\n",
       "      <td>200</td>\n",
       "    </tr>\n",
       "    <tr>\n",
       "      <th>2</th>\n",
       "      <td>21</td>\n",
       "      <td>Dec</td>\n",
       "      <td>2015</td>\n",
       "      <td>80.110.186.51</td>\n",
       "      <td>GET</td>\n",
       "      <td>200</td>\n",
       "    </tr>\n",
       "    <tr>\n",
       "      <th>3</th>\n",
       "      <td>21</td>\n",
       "      <td>Dec</td>\n",
       "      <td>2015</td>\n",
       "      <td>80.110.186.51</td>\n",
       "      <td>GET</td>\n",
       "      <td>200</td>\n",
       "    </tr>\n",
       "    <tr>\n",
       "      <th>4</th>\n",
       "      <td>21</td>\n",
       "      <td>Dec</td>\n",
       "      <td>2015</td>\n",
       "      <td>80.110.186.51</td>\n",
       "      <td>GET</td>\n",
       "      <td>200</td>\n",
       "    </tr>\n",
       "  </tbody>\n",
       "</table>\n",
       "</div>"
      ],
      "text/plain": [
       "   Day Month  Year             IP Action Status\n",
       "0   21   Dec  2015  80.110.186.51    GET    200\n",
       "1   21   Dec  2015  80.110.186.51    GET    200\n",
       "2   21   Dec  2015  80.110.186.51    GET    200\n",
       "3   21   Dec  2015  80.110.186.51    GET    200\n",
       "4   21   Dec  2015  80.110.186.51    GET    200"
      ]
     },
     "execution_count": 2,
     "metadata": {},
     "output_type": "execute_result"
    }
   ],
   "source": [
    "    df.head()"
   ]
  },
  {
   "cell_type": "markdown",
   "id": "127fbf52",
   "metadata": {
    "papermill": {
     "duration": 0.012519,
     "end_time": "2022-04-27T14:53:52.075250",
     "exception": false,
     "start_time": "2022-04-27T14:53:52.062731",
     "status": "completed"
    },
    "tags": []
   },
   "source": [
    "#### Most Common IP address\n",
    "Count is a paramter that will return how many most common IP addresses.\n",
    "In this case, it will return ten, since count is 10."
   ]
  },
  {
   "cell_type": "code",
   "execution_count": 3,
   "id": "ef9bfb14",
   "metadata": {
    "execution": {
     "iopub.execute_input": "2022-04-27T14:53:52.104230Z",
     "iopub.status.busy": "2022-04-27T14:53:52.103402Z",
     "iopub.status.idle": "2022-04-27T14:53:52.114517Z",
     "shell.execute_reply": "2022-04-27T14:53:52.113885Z"
    },
    "papermill": {
     "duration": 0.027847,
     "end_time": "2022-04-27T14:53:52.116529",
     "exception": false,
     "start_time": "2022-04-27T14:53:52.088682",
     "status": "completed"
    },
    "tags": []
   },
   "outputs": [
    {
     "data": {
      "text/plain": [
       "<bound method IndexOpsMixin.value_counts of 0          80.110.186.51\n",
       "1          80.110.186.51\n",
       "2          80.110.186.51\n",
       "3          80.110.186.51\n",
       "4          80.110.186.51\n",
       "               ...      \n",
       "149995    205.167.170.15\n",
       "149996    205.167.170.15\n",
       "149997    205.167.170.15\n",
       "149998    205.167.170.15\n",
       "149999    205.167.170.15\n",
       "Name: IP, Length: 150000, dtype: object>"
      ]
     },
     "execution_count": 3,
     "metadata": {},
     "output_type": "execute_result"
    }
   ],
   "source": [
    "    df['IP'].value_counts"
   ]
  },
  {
   "cell_type": "markdown",
   "id": "1cdb6bf9",
   "metadata": {
    "papermill": {
     "duration": 0.01247,
     "end_time": "2022-04-27T14:53:52.142452",
     "exception": false,
     "start_time": "2022-04-27T14:53:52.129982",
     "status": "completed"
    },
    "tags": []
   },
   "source": [
    "#### Top5 client IPs with status code 404"
   ]
  },
  {
   "cell_type": "code",
   "execution_count": 4,
   "id": "f674d01f",
   "metadata": {
    "execution": {
     "iopub.execute_input": "2022-04-27T14:53:52.170639Z",
     "iopub.status.busy": "2022-04-27T14:53:52.170059Z",
     "iopub.status.idle": "2022-04-27T14:53:52.209363Z",
     "shell.execute_reply": "2022-04-27T14:53:52.208667Z"
    },
    "papermill": {
     "duration": 0.055867,
     "end_time": "2022-04-27T14:53:52.211661",
     "exception": false,
     "start_time": "2022-04-27T14:53:52.155794",
     "status": "completed"
    },
    "tags": []
   },
   "outputs": [
    {
     "data": {
      "text/plain": [
       "52.22.118.215      732\n",
       "205.167.170.15     568\n",
       "188.127.233.220    119\n",
       "84.112.161.41       98\n",
       "76.168.128.240      91\n",
       "Name: IP, dtype: int64"
      ]
     },
     "execution_count": 4,
     "metadata": {},
     "output_type": "execute_result"
    }
   ],
   "source": [
    "    df404=df.loc[(df['Status']=='404')]\n",
    "    df404['IP'].value_counts().head(5)"
   ]
  },
  {
   "cell_type": "markdown",
   "id": "2dbb80a7",
   "metadata": {
    "papermill": {
     "duration": 0.014695,
     "end_time": "2022-04-27T14:53:52.239834",
     "exception": false,
     "start_time": "2022-04-27T14:53:52.225139",
     "status": "completed"
    },
    "tags": []
   },
   "source": [
    "#### Top5 client IPs with HTTP action POST and status code 200"
   ]
  },
  {
   "cell_type": "code",
   "execution_count": 5,
   "id": "edd4adfc",
   "metadata": {
    "execution": {
     "iopub.execute_input": "2022-04-27T14:53:52.268146Z",
     "iopub.status.busy": "2022-04-27T14:53:52.267824Z",
     "iopub.status.idle": "2022-04-27T14:53:52.343921Z",
     "shell.execute_reply": "2022-04-27T14:53:52.342981Z"
    },
    "papermill": {
     "duration": 0.092624,
     "end_time": "2022-04-27T14:53:52.346244",
     "exception": false,
     "start_time": "2022-04-27T14:53:52.253620",
     "status": "completed"
    },
    "tags": []
   },
   "outputs": [
    {
     "data": {
      "text/plain": [
       "79.142.95.122     1067\n",
       "198.50.160.104     248\n",
       "37.1.206.196       162\n",
       "91.200.12.22       142\n",
       "177.156.91.232      87\n",
       "Name: IP, dtype: int64"
      ]
     },
     "execution_count": 5,
     "metadata": {},
     "output_type": "execute_result"
    }
   ],
   "source": [
    "    dfPOST=df.loc[(df['Status']=='200') & (df['Action']==\"POST\")]\n",
    "    dfPOST['IP'].value_counts().head(5)"
   ]
  },
  {
   "cell_type": "markdown",
   "id": "f37be85b",
   "metadata": {
    "papermill": {
     "duration": 0.013911,
     "end_time": "2022-04-27T14:53:52.373750",
     "exception": false,
     "start_time": "2022-04-27T14:53:52.359839",
     "status": "completed"
    },
    "tags": []
   },
   "source": [
    "## Log Analyzer Application Full Instructions\n",
    "Use OOP to develop a Log Analyzer Application (LogAnalyzerApp) to analyze web access logs. The log.zip file includes all log files (i.e., access_1.log, access_2.log, access_3.log).  The larger N of a file name, the newer the file is.\n",
    "\n",
    "In this mini project, you need do the following:\n",
    "1. Define and implement a LogAnalyzer class, which can: Read all log files under a given folder such as “log”. We assume the naming convention of a log file is access_N.log. We assume there could be any number of log files under this folder. So don’t hard code “3” as a limit.\n",
    "2. Search for client IP, timestamp, HTTP actions (e.g., GET, POST, HEAD), HTTP status codes.  \n",
    "3. Response to the following queries with formatted output:\n",
    "* TopN client IPs (N can be specified by a user, say 3, 5, 10) among all monitored time period or a specific time window (e.g., between 18/Feb/2016 and 01/Mar/2016)\n",
    "* TopN HTTP actions (N can be specified by a user, say 1, 2, 3) among all monitored time period or a specific time window (e.g., between 18/Feb/2016 and 01/Mar/2016)\n",
    "* TopN client IPs (N can be specified by a user, say 3, 5, 10) with status code (e.g., 200 or 404) among all monitored time period or a specific time window (e.g., between 18/Feb/2016 and 01/Mar/2016)\n",
    "* TopN client IPs (N can be specified by a user, say 3, 5, 10) with a specific action (e.g., GET, or POST) and status code (200 or 404) among all monitored time period or a specific time window (e.g., between 18/Feb/2016 and 01/Mar/2016)\n",
    "(You are free to define necessary methods/fields and use any number of parameters for the methods as needed)\n",
    "\n",
    "Develop a Python application called LogAnalyzer.py. In LogAnalyzerApp, you create an instance of LogAnalyzer and parse the log files under a given folder (e.g., log). Test your program with the following queries. Print a report (and take a screenshot) for all these queries:\n",
    "* Top10 client IPs between 18/Feb/2016 and 01/Mar/2016)\n",
    "* Top3 HTTP actions between 18/Feb/2016 and 01/Mar/2016)\n",
    "* Top5 client IPs with status code 404 between 18/Feb/2016 and 01/Mar/2016)\n",
    "* Top5 client IPs with HTTP action POST and status code 200 between 18/Feb/2016 and 01/Mar/2016)\n",
    "\n",
    "Your Deliverables:\n",
    "* A single Python program called LogAnalyzer.py (including the class LogAnalyzer)\n",
    "* One word document called test.doc including the screenshot of the printed report. \n",
    "\n",
    "Grading Policy:\n",
    "1.\t10 points for LogAnalyzer class design: appropriate selection of fields and methods.\n",
    "2.\t45 points for correct implementation of the class LogAnalyzer.\n",
    "3.\t12 points for correct implementation of LogAnalyzerApp.\n",
    "4.\t3 points for the screenshot."
   ]
  }
 ],
 "metadata": {
  "kernelspec": {
   "display_name": "Python 3",
   "language": "python",
   "name": "python3"
  },
  "language_info": {
   "codemirror_mode": {
    "name": "ipython",
    "version": 3
   },
   "file_extension": ".py",
   "mimetype": "text/x-python",
   "name": "python",
   "nbconvert_exporter": "python",
   "pygments_lexer": "ipython3",
   "version": "3.7.12"
  },
  "papermill": {
   "default_parameters": {},
   "duration": 13.43008,
   "end_time": "2022-04-27T14:53:53.008521",
   "environment_variables": {},
   "exception": null,
   "input_path": "__notebook__.ipynb",
   "output_path": "__notebook__.ipynb",
   "parameters": {},
   "start_time": "2022-04-27T14:53:39.578441",
   "version": "2.3.4"
  }
 },
 "nbformat": 4,
 "nbformat_minor": 5
}
