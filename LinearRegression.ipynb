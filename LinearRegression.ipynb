{
 "cells": [
  {
   "cell_type": "markdown",
   "metadata": {
    "execution": {
     "iopub.execute_input": "2022-02-23T19:00:20.938748Z",
     "iopub.status.busy": "2022-02-23T19:00:20.938476Z",
     "iopub.status.idle": "2022-02-23T19:00:20.952012Z",
     "shell.execute_reply": "2022-02-23T19:00:20.951141Z",
     "shell.execute_reply.started": "2022-02-23T19:00:20.938721Z"
    }
   },
   "source": [
    "# Analyze Salary with Linear Regression\n",
    "Python Automation; Scott Schmidt; Illinois State University\n",
    "\n",
    "The main purpose of this assignment is to do linear regression without the use of imports so that one gains a full understanding of statistics and Python.\n",
    "\n",
    "## Section Summaries\n",
    "1. The dataset will have two columns of data which are years and salary. \n",
    "2. Split the data using 75% training and 25% testing. \n",
    "3. Calculate Covariance and Variance to find the coefficients. \n",
    "4. Evaluate the model performance using Root Mean Square Error (RMSE).\n",
    "5. R_Squared using no imports\n",
    "6. Full Linear Regression process with sklearn imports\n",
    "7. Plot Graph data with line of best fit\n"
   ]
  },
  {
   "cell_type": "markdown",
   "metadata": {},
   "source": [
    "## Math Functions\n",
    "Three functions called sumList(), meanList(), and stdevList() will be used to calculate the mean and standard deviation of any given list. Each function has a list as an input, and returns the corresponding result (i.e., sum, mean, min, max, stdev, etc.). Please note: a) meanList() should use sumList() to calculate the summation of a list; b) stdevList() should use meanList() to calculate the mean value; c) minMaxList() should return both min and max values."
   ]
  },
  {
   "cell_type": "code",
   "execution_count": 1,
   "metadata": {
    "execution": {
     "iopub.execute_input": "2022-03-12T22:28:03.669259Z",
     "iopub.status.busy": "2022-03-12T22:28:03.668983Z",
     "iopub.status.idle": "2022-03-12T22:28:03.676956Z",
     "shell.execute_reply": "2022-03-12T22:28:03.676045Z",
     "shell.execute_reply.started": "2022-03-12T22:28:03.669227Z"
    }
   },
   "outputs": [],
   "source": [
    "#Return the total:\n",
    "def sumList(numbers):\n",
    "    count=0\n",
    "    numbers=list(numbers)\n",
    "    for n in numbers:\n",
    "        count=count+float(n)\n",
    "    total=round(count,2)\n",
    "    return total\n",
    "\n",
    "\n",
    "#Return the mean:\n",
    "def meanList(numbers):\n",
    "    numbers=list(numbers)\n",
    "    total=sumList(numbers)\n",
    "    length=len(numbers)\n",
    "    mean=total/length\n",
    "    return round(mean,2)\n",
    "\n",
    "#Return the standard deviation:\n",
    "def stdevList(mean):\n",
    "    var=0 #variance\n",
    "    for d in data:\n",
    "        n=d-mean\n",
    "        n2=n*n\n",
    "        var=var+n2\n",
    "    std=var/len(data)\n",
    "    std=round(std**0.5,2)\n",
    "    return std"
   ]
  },
  {
   "cell_type": "markdown",
   "metadata": {},
   "source": [
    "# 1)View Data\n",
    "Read the csv file and display the data below. There is no missing data."
   ]
  },
  {
   "cell_type": "code",
   "execution_count": 2,
   "metadata": {
    "execution": {
     "iopub.execute_input": "2022-03-12T22:28:03.678476Z",
     "iopub.status.busy": "2022-03-12T22:28:03.678256Z",
     "iopub.status.idle": "2022-03-12T22:28:03.700458Z",
     "shell.execute_reply": "2022-03-12T22:28:03.699856Z",
     "shell.execute_reply.started": "2022-03-12T22:28:03.678450Z"
    }
   },
   "outputs": [
    {
     "data": {
      "text/html": [
       "<div>\n",
       "<style scoped>\n",
       "    .dataframe tbody tr th:only-of-type {\n",
       "        vertical-align: middle;\n",
       "    }\n",
       "\n",
       "    .dataframe tbody tr th {\n",
       "        vertical-align: top;\n",
       "    }\n",
       "\n",
       "    .dataframe thead th {\n",
       "        text-align: right;\n",
       "    }\n",
       "</style>\n",
       "<table border=\"1\" class=\"dataframe\">\n",
       "  <thead>\n",
       "    <tr style=\"text-align: right;\">\n",
       "      <th></th>\n",
       "      <th>years</th>\n",
       "      <th>salary</th>\n",
       "    </tr>\n",
       "  </thead>\n",
       "  <tbody>\n",
       "    <tr>\n",
       "      <th>0</th>\n",
       "      <td>1.1</td>\n",
       "      <td>39343</td>\n",
       "    </tr>\n",
       "    <tr>\n",
       "      <th>1</th>\n",
       "      <td>1.3</td>\n",
       "      <td>46205</td>\n",
       "    </tr>\n",
       "    <tr>\n",
       "      <th>2</th>\n",
       "      <td>1.5</td>\n",
       "      <td>37731</td>\n",
       "    </tr>\n",
       "    <tr>\n",
       "      <th>3</th>\n",
       "      <td>2.0</td>\n",
       "      <td>43525</td>\n",
       "    </tr>\n",
       "    <tr>\n",
       "      <th>4</th>\n",
       "      <td>2.2</td>\n",
       "      <td>39891</td>\n",
       "    </tr>\n",
       "    <tr>\n",
       "      <th>5</th>\n",
       "      <td>2.9</td>\n",
       "      <td>56642</td>\n",
       "    </tr>\n",
       "    <tr>\n",
       "      <th>6</th>\n",
       "      <td>3.0</td>\n",
       "      <td>60150</td>\n",
       "    </tr>\n",
       "    <tr>\n",
       "      <th>7</th>\n",
       "      <td>3.2</td>\n",
       "      <td>54445</td>\n",
       "    </tr>\n",
       "    <tr>\n",
       "      <th>8</th>\n",
       "      <td>3.2</td>\n",
       "      <td>64445</td>\n",
       "    </tr>\n",
       "    <tr>\n",
       "      <th>9</th>\n",
       "      <td>3.7</td>\n",
       "      <td>57189</td>\n",
       "    </tr>\n",
       "    <tr>\n",
       "      <th>10</th>\n",
       "      <td>3.9</td>\n",
       "      <td>63218</td>\n",
       "    </tr>\n",
       "    <tr>\n",
       "      <th>11</th>\n",
       "      <td>4.0</td>\n",
       "      <td>55794</td>\n",
       "    </tr>\n",
       "    <tr>\n",
       "      <th>12</th>\n",
       "      <td>4.0</td>\n",
       "      <td>56957</td>\n",
       "    </tr>\n",
       "    <tr>\n",
       "      <th>13</th>\n",
       "      <td>4.1</td>\n",
       "      <td>57081</td>\n",
       "    </tr>\n",
       "    <tr>\n",
       "      <th>14</th>\n",
       "      <td>4.5</td>\n",
       "      <td>61111</td>\n",
       "    </tr>\n",
       "    <tr>\n",
       "      <th>15</th>\n",
       "      <td>4.9</td>\n",
       "      <td>67938</td>\n",
       "    </tr>\n",
       "    <tr>\n",
       "      <th>16</th>\n",
       "      <td>5.1</td>\n",
       "      <td>66029</td>\n",
       "    </tr>\n",
       "    <tr>\n",
       "      <th>17</th>\n",
       "      <td>5.3</td>\n",
       "      <td>83088</td>\n",
       "    </tr>\n",
       "    <tr>\n",
       "      <th>18</th>\n",
       "      <td>5.9</td>\n",
       "      <td>81363</td>\n",
       "    </tr>\n",
       "    <tr>\n",
       "      <th>19</th>\n",
       "      <td>6.0</td>\n",
       "      <td>93940</td>\n",
       "    </tr>\n",
       "    <tr>\n",
       "      <th>20</th>\n",
       "      <td>6.8</td>\n",
       "      <td>91738</td>\n",
       "    </tr>\n",
       "    <tr>\n",
       "      <th>21</th>\n",
       "      <td>7.1</td>\n",
       "      <td>98273</td>\n",
       "    </tr>\n",
       "    <tr>\n",
       "      <th>22</th>\n",
       "      <td>7.9</td>\n",
       "      <td>101302</td>\n",
       "    </tr>\n",
       "    <tr>\n",
       "      <th>23</th>\n",
       "      <td>8.2</td>\n",
       "      <td>113812</td>\n",
       "    </tr>\n",
       "    <tr>\n",
       "      <th>24</th>\n",
       "      <td>8.7</td>\n",
       "      <td>109431</td>\n",
       "    </tr>\n",
       "    <tr>\n",
       "      <th>25</th>\n",
       "      <td>9.0</td>\n",
       "      <td>105582</td>\n",
       "    </tr>\n",
       "    <tr>\n",
       "      <th>26</th>\n",
       "      <td>9.5</td>\n",
       "      <td>116969</td>\n",
       "    </tr>\n",
       "    <tr>\n",
       "      <th>27</th>\n",
       "      <td>9.6</td>\n",
       "      <td>112635</td>\n",
       "    </tr>\n",
       "    <tr>\n",
       "      <th>28</th>\n",
       "      <td>10.3</td>\n",
       "      <td>122391</td>\n",
       "    </tr>\n",
       "    <tr>\n",
       "      <th>29</th>\n",
       "      <td>10.5</td>\n",
       "      <td>121872</td>\n",
       "    </tr>\n",
       "  </tbody>\n",
       "</table>\n",
       "</div>"
      ],
      "text/plain": [
       "    years  salary\n",
       "0     1.1   39343\n",
       "1     1.3   46205\n",
       "2     1.5   37731\n",
       "3     2.0   43525\n",
       "4     2.2   39891\n",
       "5     2.9   56642\n",
       "6     3.0   60150\n",
       "7     3.2   54445\n",
       "8     3.2   64445\n",
       "9     3.7   57189\n",
       "10    3.9   63218\n",
       "11    4.0   55794\n",
       "12    4.0   56957\n",
       "13    4.1   57081\n",
       "14    4.5   61111\n",
       "15    4.9   67938\n",
       "16    5.1   66029\n",
       "17    5.3   83088\n",
       "18    5.9   81363\n",
       "19    6.0   93940\n",
       "20    6.8   91738\n",
       "21    7.1   98273\n",
       "22    7.9  101302\n",
       "23    8.2  113812\n",
       "24    8.7  109431\n",
       "25    9.0  105582\n",
       "26    9.5  116969\n",
       "27    9.6  112635\n",
       "28   10.3  122391\n",
       "29   10.5  121872"
      ]
     },
     "execution_count": 2,
     "metadata": {},
     "output_type": "execute_result"
    }
   ],
   "source": [
    "import numpy as np # linear algebra\n",
    "import pandas as pd # data processing, CSV file I/O (e.g. pd.read_csv)\n",
    "from sklearn.model_selection import train_test_split, cross_validate\n",
    "from sklearn.metrics import mean_absolute_error, mean_squared_error\n",
    "\n",
    "# sFile=r'/kaggle/input/salary/salary.csv'\n",
    "sFile=r'C:\\Users\\sschm\\Desktop\\IT170\\salary.csv'\n",
    "sDF = pd.read_csv(sFile, header=None, names=['years', 'salary'])\n",
    "sDF"
   ]
  },
  {
   "cell_type": "markdown",
   "metadata": {},
   "source": [
    "# 2) Split Data\n",
    "Function will be called train_test_split that will split the dataset List into a training set and a test based on 75% for training and 25% for testing. Normally, one can use \n",
    "`from sklearn.model_selection import train_test_split` to do this but in this case the train_test_split function will do this manually. A list sent to this function will get split by a ratio as a way to use training data to make future predictions on the test data."
   ]
  },
  {
   "cell_type": "code",
   "execution_count": 3,
   "metadata": {
    "execution": {
     "iopub.execute_input": "2022-03-12T22:28:03.701811Z",
     "iopub.status.busy": "2022-03-12T22:28:03.701278Z",
     "iopub.status.idle": "2022-03-12T22:28:03.705908Z",
     "shell.execute_reply": "2022-03-12T22:28:03.705384Z",
     "shell.execute_reply.started": "2022-03-12T22:28:03.701782Z"
    }
   },
   "outputs": [],
   "source": [
    "def train_test_split(aList, ratio):\n",
    "    elements = len(aList)\n",
    "    middle = int(elements * ratio)\n",
    "    trainSet=[aList[:middle]]\n",
    "    testSet=[aList[middle:]]\n",
    "    return list(trainSet), list(testSet)"
   ]
  },
  {
   "cell_type": "markdown",
   "metadata": {},
   "source": [
    "# 3)Calculate Variance and Coefficients\n",
    " Some basic math functions used in this section will will be: <br>\n",
    "`\n",
    "mean=meanList(data)\n",
    "stdev=stdevList(mean)\n",
    "`\n",
    "\n",
    "#### Variance Function\n",
    "Variance is a numeric measurement of how far a dataset is more a mean. In this section we will calculate covariance and variance from the training dataset."
   ]
  },
  {
   "cell_type": "code",
   "execution_count": 4,
   "metadata": {
    "execution": {
     "iopub.execute_input": "2022-03-12T22:28:03.707690Z",
     "iopub.status.busy": "2022-03-12T22:28:03.707308Z",
     "iopub.status.idle": "2022-03-12T22:28:03.716205Z",
     "shell.execute_reply": "2022-03-12T22:28:03.715335Z",
     "shell.execute_reply.started": "2022-03-12T22:28:03.707640Z"
    }
   },
   "outputs": [],
   "source": [
    "# Calculate the variance of a list of numbers:\n",
    "def varianceList(aList):\n",
    "    # calculate mean\n",
    "    m = meanList(aList)\n",
    "\n",
    "    # calculate variance using a list comprehension\n",
    "    var = sum((xi - m) ** 2 for xi in aList) / len(aList)\n",
    "    return var"
   ]
  },
  {
   "cell_type": "markdown",
   "metadata": {},
   "source": [
    "#### Covariance Function\n",
    "Covariance measures the relationships between two assets. A positive correlation would be found between the Nadsaq and Apple. When the tech sector does well during a duration of time, normally, so does Apple."
   ]
  },
  {
   "cell_type": "code",
   "execution_count": 5,
   "metadata": {
    "execution": {
     "iopub.execute_input": "2022-03-12T22:28:03.718155Z",
     "iopub.status.busy": "2022-03-12T22:28:03.717798Z",
     "iopub.status.idle": "2022-03-12T22:28:03.724989Z",
     "shell.execute_reply": "2022-03-12T22:28:03.724291Z",
     "shell.execute_reply.started": "2022-03-12T22:28:03.718117Z"
    }
   },
   "outputs": [],
   "source": [
    "#Calculate the covariance of two lists of numbers:\n",
    "def covarianceList(x, y):\n",
    "    # Finding the mean of the series x and y\n",
    "    mean_x = meanList(x)\n",
    "    mean_y = meanList(y)\n",
    "    \n",
    "    # Subtracting mean from the individual elements\n",
    "    sub_x = [i - mean_x for i in x]\n",
    "    sub_y = [i - mean_y for i in y]\n",
    "    \n",
    "    numerator = sum([sub_x[i]*sub_y[i] for i in range(len(sub_x))])\n",
    "    denominator = len(x)-1\n",
    "    cov = numerator/denominator\n",
    "    return cov"
   ]
  },
  {
   "attachments": {
    "54fd79cd-4d29-4ab1-8686-eb68486c71e8.png": {
     "image/png": "[encoded data removed]"
    }
   },
   "cell_type": "markdown",
   "metadata": {},
   "source": [
    "#### Calculate Coefficients Function\n",
    "Calculate the {w}_{0} and {w}_{1} values <br>\n",
    "Hint: Calculate the covariance of two lists of numbers: <br>\n",
    "The input is a list with each item a list   [x, y] <br>\n",
    "![image.png](attachment:54fd79cd-4d29-4ab1-8686-eb68486c71e8.png)!"
   ]
  },
  {
   "cell_type": "code",
   "execution_count": 6,
   "metadata": {
    "execution": {
     "iopub.execute_input": "2022-03-12T22:28:03.726442Z",
     "iopub.status.busy": "2022-03-12T22:28:03.726105Z",
     "iopub.status.idle": "2022-03-12T22:28:03.737960Z",
     "shell.execute_reply": "2022-03-12T22:28:03.737399Z",
     "shell.execute_reply.started": "2022-03-12T22:28:03.726404Z"
    }
   },
   "outputs": [],
   "source": [
    "def coefficeints(trainingDatasetList):\n",
    "    x=list(trainingDatasetList[0])\n",
    "    y=list(trainingDatasetList[1])\n",
    "\n",
    "    w1 = covarianceList(x, y) / float(varianceList(x))\n",
    " \n",
    "    # Coefficient W0 = mean of y_readings - ( W1 * the mean of the x_readings )\n",
    "    w0 = meanList(y) - (w1 * meanList(x))\n",
    "    return w0, w1"
   ]
  },
  {
   "cell_type": "code",
   "execution_count": 7,
   "metadata": {
    "execution": {
     "iopub.execute_input": "2022-03-12T22:28:03.739494Z",
     "iopub.status.busy": "2022-03-12T22:28:03.739097Z",
     "iopub.status.idle": "2022-03-12T22:28:03.750804Z",
     "shell.execute_reply": "2022-03-12T22:28:03.750201Z",
     "shell.execute_reply.started": "2022-03-12T22:28:03.739458Z"
    }
   },
   "outputs": [
    {
     "name": "stdout",
     "output_type": "stream",
     "text": [
      "The covariance is:  5414.7167\n",
      "The variance is:  0.4857\n",
      "The coefficients are:  (23916.537843137256, 11147.946078431372)\n",
      "23916.537843137256\n",
      "11147.946078431372\n"
     ]
    }
   ],
   "source": [
    "#GET DATA IN FORM OF X AND Y:\n",
    "x=sDF['years']\n",
    "y=sDF['salary']\n",
    "x=list(x)\n",
    "y=list(y)\n",
    "\n",
    "#SPLIT DATA:\n",
    "x_train, x_test=train_test_split(x, .25)\n",
    "y_train, y_test=train_test_split(y, .25)\n",
    "\n",
    "#Turn double bracket list into single bracket list:\n",
    "x_train, y_train,x_test, y_test=x_train[0], y_train[0],x_test[0], y_test[0]\n",
    "\n",
    "#COVARIANCE:\n",
    "cov=round(covarianceList(x_train,y_train),4)\n",
    "print(\"The covariance is: \", cov)\n",
    "\n",
    "#VARIANCE:\n",
    "var=round(varianceList(x_train),4)\n",
    "print(\"The variance is: \", var)\n",
    "\n",
    "#COEFFICIENTS:\n",
    "trainingDatasetList= [x_train, y_train]\n",
    "coef=coefficeints(trainingDatasetList)\n",
    "print(\"The coefficients are: \", coef)\n",
    "\n",
    "w0=coef[0]\n",
    "w1=coef[1]\n",
    "print(w0)\n",
    "print(w1)"
   ]
  },
  {
   "cell_type": "markdown",
   "metadata": {},
   "source": [
    "### Make Prediction\n",
    "Based on the coeficients between year and salary, we can make a prediction of what an individual would make based on their years of service. Y is the final prediction and the formula is below:\n",
    "#### y = w0 + w1*x1  \n",
    "Normally, the code with numpy and linaer regression import would look like this: <br>\n",
    "`\n",
    "x_new = np.array([0, 1, 2, 3])\n",
    "y_prediction = lr.intercept_ + x_new*lr.coef_[0]\n",
    "lr.predict(x_new.reshape(-1,1))\n",
    "`\n",
    "\n",
    "w0 and w1 are the two coefficients, where w0 is the intercept (of the y-axis), and w1 is the slope of the line. w1 shows the impact of the independent variable x1 on y. For example, when w1 = 0, there’s no impact of x1 on y since (0*x1 = 0).\n",
    "\n",
    "In simple terms, linear regression is an algorithm that finds the best values of w0 and w1 to fit the training dataset.\n",
    "\n",
    "#### A. Predictions with numpy\n",
    "Both numpy and the manual loop prediction get the same prediction results. "
   ]
  },
  {
   "cell_type": "code",
   "execution_count": 8,
   "metadata": {
    "execution": {
     "iopub.execute_input": "2022-03-12T22:28:03.752408Z",
     "iopub.status.busy": "2022-03-12T22:28:03.751995Z",
     "iopub.status.idle": "2022-03-12T22:28:03.759456Z",
     "shell.execute_reply": "2022-03-12T22:28:03.758653Z",
     "shell.execute_reply.started": "2022-03-12T22:28:03.752372Z"
    }
   },
   "outputs": [
    {
     "name": "stdout",
     "output_type": "stream",
     "text": [
      "[[ 59589.97  59589.97  65163.94  67393.53  68508.32  68508.32  69623.12\n",
      "   74082.3   78541.47  80771.06  83000.65  89689.42  90804.21  99722.57\n",
      "  103066.95 111985.31 115329.7  120903.67 124248.05 129822.03 130936.82\n",
      "  138740.38 140969.97]]\n"
     ]
    }
   ],
   "source": [
    "x_new=np.array([x_test])\n",
    "predictions = np.round_(w0 + x_new*w1, decimals=2)\n",
    "print(predictions)"
   ]
  },
  {
   "cell_type": "markdown",
   "metadata": {},
   "source": [
    "#### B. Predictions using a loop"
   ]
  },
  {
   "cell_type": "code",
   "execution_count": 9,
   "metadata": {
    "execution": {
     "iopub.execute_input": "2022-03-12T22:28:03.760864Z",
     "iopub.status.busy": "2022-03-12T22:28:03.760655Z",
     "iopub.status.idle": "2022-03-12T22:28:03.768401Z",
     "shell.execute_reply": "2022-03-12T22:28:03.767753Z",
     "shell.execute_reply.started": "2022-03-12T22:28:03.760837Z"
    }
   },
   "outputs": [
    {
     "name": "stdout",
     "output_type": "stream",
     "text": [
      "[59589.97, 59589.97, 65163.94, 67393.53, 68508.32, 68508.32, 69623.12, 74082.3, 78541.47, 80771.06, 83000.65, 89689.42, 90804.21, 99722.57, 103066.95, 111985.31, 115329.7, 120903.67, 124248.05, 129822.03, 130936.82, 138740.38, 140969.97]\n"
     ]
    }
   ],
   "source": [
    "predictions=[]\n",
    "for x in x_test:\n",
    "    predict = round(w0 + x*w1,2)\n",
    "    predictions.append(predict)\n",
    "print(predictions)"
   ]
  },
  {
   "attachments": {
    "ddc3c54b-03b2-450f-9936-e684bb7ce4af.png": {
     "image/png": "[encoded data removed]"
    }
   },
   "cell_type": "markdown",
   "metadata": {},
   "source": [
    "## 4)Calculate RMSE\n",
    "Root Mean Squared Error (RMSE) is the standard deviation of the prediction errors. In simple terms, it tells an individual how far the predictions are away from the line of best fit. Here is the official formula below: <br>\n",
    "![image.png](attachment:ddc3c54b-03b2-450f-9936-e684bb7ce4af.png)\n",
    "\n",
    "Σ = summation (“add up”) <br>\n",
    "(zfi – Zoi)2 = differences, squared <br>\n",
    "N = sample size.\n",
    "\n",
    "Specifically, one must do the following to get the RMSE:\n",
    "1. Squaring the residuals.\n",
    "2. Finding the average of the residuals.\n",
    "3. Taking the square root of the result.\n",
    "\n",
    "#### Calculate RMSE function\n",
    "The Root Mean Square Error is 10023.7. Both methods get the same answer to verify the calculation was done correctly. This means that on average, a salary can be predicted o i on avearge within 10,023.70 dollars based on the current data. \n"
   ]
  },
  {
   "cell_type": "code",
   "execution_count": 10,
   "metadata": {
    "execution": {
     "iopub.execute_input": "2022-03-12T22:28:03.770549Z",
     "iopub.status.busy": "2022-03-12T22:28:03.770250Z",
     "iopub.status.idle": "2022-03-12T22:28:03.778884Z",
     "shell.execute_reply": "2022-03-12T22:28:03.778357Z",
     "shell.execute_reply.started": "2022-03-12T22:28:03.770525Z"
    }
   },
   "outputs": [
    {
     "name": "stdout",
     "output_type": "stream",
     "text": [
      "Root Mean Square Error: 10023.7\n"
     ]
    }
   ],
   "source": [
    "def calcRMSE(predictions, targets):\n",
    "    difference=[]\n",
    "    zip_object = zip(predictions, targets)\n",
    "    for predictions, targets in zip_object:\n",
    "        difference.append(predictions-targets)\n",
    "    final=[]\n",
    "    \n",
    "    for d in difference:\n",
    "        sq=d*d\n",
    "        result=sq**.5\n",
    "        final.append(result)\n",
    "    return meanList(final)\n",
    "        \n",
    "RSME=calcRMSE(predictions, y_test)\n",
    "print(\"Root Mean Square Error:\", RSME)"
   ]
  },
  {
   "cell_type": "markdown",
   "metadata": {},
   "source": [
    "#### Calulcate RMSE with numpy "
   ]
  },
  {
   "cell_type": "code",
   "execution_count": 11,
   "metadata": {
    "execution": {
     "iopub.execute_input": "2022-03-12T22:28:03.780889Z",
     "iopub.status.busy": "2022-03-12T22:28:03.780145Z",
     "iopub.status.idle": "2022-03-12T22:28:03.790639Z",
     "shell.execute_reply": "2022-03-12T22:28:03.789788Z",
     "shell.execute_reply.started": "2022-03-12T22:28:03.780850Z"
    }
   },
   "outputs": [
    {
     "name": "stdout",
     "output_type": "stream",
     "text": [
      "Root Mean Square Error: 10023.7\n"
     ]
    }
   ],
   "source": [
    "def evalRMSE(predictions, targets):\n",
    "    diff=np.subtract(predictions,targets)\n",
    "    square=np.square(diff)\n",
    "    MSE=square.mean()\n",
    "    RMSE=np.sqrt(MSE)\n",
    "    RMSE=np.round_(RSME, decimals=2)\n",
    "    return RMSE\n",
    "\n",
    "rmse=evalRMSE(predictions, y_test)\n",
    "print(\"Root Mean Square Error:\", rmse)"
   ]
  },
  {
   "cell_type": "markdown",
   "metadata": {},
   "source": [
    "## Calculate r_sqared no imports\n",
    "To make sure that the assignment is done correctly, I made a function to calculate r_squared. "
   ]
  },
  {
   "cell_type": "code",
   "execution_count": 12,
   "metadata": {
    "execution": {
     "iopub.execute_input": "2022-03-12T22:28:03.792073Z",
     "iopub.status.busy": "2022-03-12T22:28:03.791754Z",
     "iopub.status.idle": "2022-03-12T22:28:03.799732Z",
     "shell.execute_reply": "2022-03-12T22:28:03.799035Z",
     "shell.execute_reply.started": "2022-03-12T22:28:03.792037Z"
    }
   },
   "outputs": [
    {
     "name": "stdout",
     "output_type": "stream",
     "text": [
      "R_Squared:  0.7749\n"
     ]
    }
   ],
   "source": [
    "def calcR2(predicted, actual):\n",
    "    diff=np.subtract(predicted,actual)\n",
    "    ssres=sum(np.square(diff))\n",
    "    sstot=sum(np.square(actual-np.mean(actual)))\n",
    "    \n",
    "    #ssres = sum((actual - predicted)**2)\n",
    "    #sstot = sum((actual-np.mean(actual))**2)\n",
    "    r2_m = 1-(ssres/sstot)\n",
    "    return r2_m\n",
    "\n",
    "r2=calcR2(predictions, y_test)\n",
    "print(\"R_Squared: \", round(r2,4))"
   ]
  },
  {
   "cell_type": "markdown",
   "metadata": {},
   "source": [
    "#### Plot Predictions vs Actual"
   ]
  },
  {
   "cell_type": "code",
   "execution_count": 13,
   "metadata": {
    "execution": {
     "iopub.execute_input": "2022-03-12T22:28:03.801022Z",
     "iopub.status.busy": "2022-03-12T22:28:03.800731Z",
     "iopub.status.idle": "2022-03-12T22:28:04.427101Z",
     "shell.execute_reply": "2022-03-12T22:28:04.426334Z",
     "shell.execute_reply.started": "2022-03-12T22:28:03.800998Z"
    }
   },
   "outputs": [
    {
     "data": {
      "image/png": "[encoded data removed]",
      "text/plain": [
       "<Figure size 720x720 with 1 Axes>"
      ]
     },
     "metadata": {
      "needs_background": "light"
     },
     "output_type": "display_data"
    }
   ],
   "source": [
    "import matplotlib.pyplot as plt\n",
    "plt.figure(figsize=(10,10))\n",
    "plt.scatter(y_test, predictions, c='crimson')\n",
    "plt.yscale('log')\n",
    "plt.xscale('log')\n",
    "\n",
    "p1 = max(max(predictions), max(y_test))\n",
    "p2 = min(min(predictions), min(y_test))\n",
    "\n",
    "plt.title(\"Predictions and Actual\", size=20,fontweight=\"bold\")\n",
    "plt.plot([p1, p2], [p1, p2], 'b-')\n",
    "plt.xlabel('True Values', fontsize=15)\n",
    "plt.ylabel('Predictions', fontsize=15)\n",
    "plt.axis('equal')\n",
    "plt.show()"
   ]
  },
  {
   "cell_type": "markdown",
   "metadata": {},
   "source": [
    "## Linear Regression with imports\n",
    "Extra section to verify that the linear regression prediction and error are correct by using the official imports from Sklearn. One of the most basic and used types of predictive modeling is linear regression. Linear regression can help find the strength and effect indepedent variables have on dependent variables. I will verify the results using sklearn imports, instead of doing it by hand."
   ]
  },
  {
   "cell_type": "code",
   "execution_count": 14,
   "metadata": {
    "execution": {
     "iopub.execute_input": "2022-03-12T22:28:04.428768Z",
     "iopub.status.busy": "2022-03-12T22:28:04.428479Z",
     "iopub.status.idle": "2022-03-12T22:28:04.530429Z",
     "shell.execute_reply": "2022-03-12T22:28:04.529644Z",
     "shell.execute_reply.started": "2022-03-12T22:28:04.428731Z"
    }
   },
   "outputs": [
    {
     "name": "stdout",
     "output_type": "stream",
     "text": [
      "[101302.  67938. 116969.  46205. 105582.  64445.  54445. 121872.]\n",
      "Linear regression r2 score:  1.0\n",
      "Linear coef:  [1.]\n",
      "Linear regression MSE:  0.0\n"
     ]
    }
   ],
   "source": [
    "import pandas as pd\n",
    "from sklearn.linear_model import LinearRegression\n",
    "from sklearn.model_selection import train_test_split\n",
    "import sklearn.metrics as metrics\n",
    "from sklearn.metrics import r2_score, mean_squared_error\n",
    "\n",
    "#Get data as x and y:\n",
    "x=sDF[['years']]\n",
    "x=sDF[['salary']]\n",
    "X_train, X_test, y_train, y_test = train_test_split(x, y, test_size=0.25, random_state=13)\n",
    "\n",
    "#Fit and predict:\n",
    "lrModel = LinearRegression()\n",
    "lrModel.fit(X_train, y_train)\n",
    "lrPredict = lrModel.predict(X_test)\n",
    "print(lrPredict)\n",
    "\n",
    "#Linear Metrics:\n",
    "r2 = r2_score(y_test, lrPredict)\n",
    "print(\"Linear regression r2 score: \", r2.round(4))\n",
    "\n",
    "#PRINT COEFFICIENT:\n",
    "lrCoef=lrModel.coef_  \n",
    "print(\"Linear coef: \", lrCoef)\n",
    "\n",
    "#PRINT MEAN SQUARED ERROR: \n",
    "lrRMSE=np.sqrt(metrics.mean_squared_error(y_test, lrPredict))\n",
    "print(\"Linear regression MSE: \", round(lrRMSE,4))"
   ]
  },
  {
   "cell_type": "markdown",
   "metadata": {},
   "source": [
    "## Plot Data\n",
    "The graph clearly shows a trend that salary and years are correlated. Meaning, the more years experience, the salary tends to be higher. "
   ]
  },
  {
   "cell_type": "code",
   "execution_count": 15,
   "metadata": {
    "execution": {
     "iopub.execute_input": "2022-03-12T22:28:04.531709Z",
     "iopub.status.busy": "2022-03-12T22:28:04.531512Z",
     "iopub.status.idle": "2022-03-12T22:28:04.715432Z",
     "shell.execute_reply": "2022-03-12T22:28:04.714934Z",
     "shell.execute_reply.started": "2022-03-12T22:28:04.531685Z"
    }
   },
   "outputs": [
    {
     "data": {
      "image/png": "[encoded data removed]",
      "text/plain": [
       "<Figure size 432x288 with 1 Axes>"
      ]
     },
     "metadata": {
      "needs_background": "light"
     },
     "output_type": "display_data"
    }
   ],
   "source": [
    "import matplotlib.pyplot as plt\n",
    "x=sDF['years']\n",
    "y=sDF['salary']\n",
    "\n",
    "#find line of best fit\n",
    "a, b = np.polyfit(x, y, 1)\n",
    "\n",
    "#add points to plot\n",
    "plt.scatter(x, y)\n",
    "\n",
    "#add line of best fit to plot\n",
    "plt.plot(x, a*x+b)\n",
    "\n",
    "#add line of best fit to plot\n",
    "plt.plot(x, a*x+b, color='red', linestyle='--', linewidth=2)\n",
    "plt.title(\"Years and Salary\", size=20,fontweight=\"bold\")\n",
    "plt.xlabel('Years',size=16, fontweight=\"bold\")\n",
    "plt.ylabel('Salary',size=16,fontweight=\"bold\")\n",
    "plt.show()"
   ]
  },
  {
   "cell_type": "markdown",
   "metadata": {
    "execution": {
     "iopub.execute_input": "2022-03-09T17:58:30.970969Z",
     "iopub.status.busy": "2022-03-09T17:58:30.970342Z",
     "iopub.status.idle": "2022-03-09T17:58:30.97878Z",
     "shell.execute_reply": "2022-03-09T17:58:30.977344Z",
     "shell.execute_reply.started": "2022-03-09T17:58:30.970906Z"
    }
   },
   "source": [
    "## References\n",
    "1. https://www.urbanpro.com/machine-learning/linear-regression-without-any-libraries\n",
    "2. https://dataaspirant.com/simple-linear-regression-python-without-any-machine-learning-libraries/"
   ]
  }
 ],
 "metadata": {
  "kernelspec": {
   "display_name": "Python 3 (ipykernel)",
   "language": "python",
   "name": "python3"
  },
  "language_info": {
   "codemirror_mode": {
    "name": "ipython",
    "version": 3
   },
   "file_extension": ".py",
   "mimetype": "text/x-python",
   "name": "python",
   "nbconvert_exporter": "python",
   "pygments_lexer": "ipython3",
   "version": "3.9.7"
  }
 },
 "nbformat": 4,
 "nbformat_minor": 4
}
